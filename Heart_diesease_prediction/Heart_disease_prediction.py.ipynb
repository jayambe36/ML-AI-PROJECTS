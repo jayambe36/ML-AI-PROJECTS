{
 "cells": [
  {
   "cell_type": "code",
   "execution_count": 1,
   "metadata": {},
   "outputs": [],
   "source": [
    "import tkinter as tk\n",
    "from tkinter import *\n",
    "import numpy as np\n",
    "import pandas as pd\n",
    "from pandas import *\n",
    "import matplotlib.pyplot as plt\n",
    "import seaborn as sns\n",
    "from sklearn.model_selection import train_test_split\n",
    "from sklearn.ensemble import RandomForestClassifier\n",
    "from sklearn.model_selection import RandomizedSearchCV\n",
    "from sklearn.metrics import accuracy_score,recall_score,precision_score,f1_score\n",
    "import warnings\n",
    "warnings.filterwarnings(\"ignore\")\n",
    "from sklearn.metrics import confusion_matrix\n",
    "from sklearn.model_selection import cross_val_score\n",
    "from sklearn.metrics import classification_report\n",
    "\n"
   ]
  },
  {
   "cell_type": "markdown",
   "metadata": {},
   "source": [
    "# Exploring Data"
   ]
  },
  {
   "cell_type": "code",
   "execution_count": 2,
   "metadata": {},
   "outputs": [
    {
     "data": {
      "text/html": [
       "<div>\n",
       "<style scoped>\n",
       "    .dataframe tbody tr th:only-of-type {\n",
       "        vertical-align: middle;\n",
       "    }\n",
       "\n",
       "    .dataframe tbody tr th {\n",
       "        vertical-align: top;\n",
       "    }\n",
       "\n",
       "    .dataframe thead th {\n",
       "        text-align: right;\n",
       "    }\n",
       "</style>\n",
       "<table border=\"1\" class=\"dataframe\">\n",
       "  <thead>\n",
       "    <tr style=\"text-align: right;\">\n",
       "      <th></th>\n",
       "      <th>age</th>\n",
       "      <th>sex</th>\n",
       "      <th>cp</th>\n",
       "      <th>trestbps</th>\n",
       "      <th>chol</th>\n",
       "      <th>fbs</th>\n",
       "      <th>restecg</th>\n",
       "      <th>thalach</th>\n",
       "      <th>exang</th>\n",
       "      <th>oldpeak</th>\n",
       "      <th>slope</th>\n",
       "      <th>ca</th>\n",
       "      <th>thal</th>\n",
       "      <th>target</th>\n",
       "    </tr>\n",
       "  </thead>\n",
       "  <tbody>\n",
       "    <tr>\n",
       "      <th>0</th>\n",
       "      <td>63</td>\n",
       "      <td>1</td>\n",
       "      <td>3</td>\n",
       "      <td>145</td>\n",
       "      <td>233</td>\n",
       "      <td>1</td>\n",
       "      <td>0</td>\n",
       "      <td>150</td>\n",
       "      <td>0</td>\n",
       "      <td>2.3</td>\n",
       "      <td>0</td>\n",
       "      <td>0</td>\n",
       "      <td>1</td>\n",
       "      <td>1</td>\n",
       "    </tr>\n",
       "    <tr>\n",
       "      <th>1</th>\n",
       "      <td>37</td>\n",
       "      <td>1</td>\n",
       "      <td>2</td>\n",
       "      <td>130</td>\n",
       "      <td>250</td>\n",
       "      <td>0</td>\n",
       "      <td>1</td>\n",
       "      <td>187</td>\n",
       "      <td>0</td>\n",
       "      <td>3.5</td>\n",
       "      <td>0</td>\n",
       "      <td>0</td>\n",
       "      <td>2</td>\n",
       "      <td>1</td>\n",
       "    </tr>\n",
       "    <tr>\n",
       "      <th>2</th>\n",
       "      <td>41</td>\n",
       "      <td>0</td>\n",
       "      <td>1</td>\n",
       "      <td>130</td>\n",
       "      <td>204</td>\n",
       "      <td>0</td>\n",
       "      <td>0</td>\n",
       "      <td>172</td>\n",
       "      <td>0</td>\n",
       "      <td>1.4</td>\n",
       "      <td>2</td>\n",
       "      <td>0</td>\n",
       "      <td>2</td>\n",
       "      <td>1</td>\n",
       "    </tr>\n",
       "    <tr>\n",
       "      <th>3</th>\n",
       "      <td>56</td>\n",
       "      <td>1</td>\n",
       "      <td>1</td>\n",
       "      <td>120</td>\n",
       "      <td>236</td>\n",
       "      <td>0</td>\n",
       "      <td>1</td>\n",
       "      <td>178</td>\n",
       "      <td>0</td>\n",
       "      <td>0.8</td>\n",
       "      <td>2</td>\n",
       "      <td>0</td>\n",
       "      <td>2</td>\n",
       "      <td>1</td>\n",
       "    </tr>\n",
       "    <tr>\n",
       "      <th>4</th>\n",
       "      <td>57</td>\n",
       "      <td>0</td>\n",
       "      <td>0</td>\n",
       "      <td>120</td>\n",
       "      <td>354</td>\n",
       "      <td>0</td>\n",
       "      <td>1</td>\n",
       "      <td>163</td>\n",
       "      <td>1</td>\n",
       "      <td>0.6</td>\n",
       "      <td>2</td>\n",
       "      <td>0</td>\n",
       "      <td>2</td>\n",
       "      <td>1</td>\n",
       "    </tr>\n",
       "  </tbody>\n",
       "</table>\n",
       "</div>"
      ],
      "text/plain": [
       "   age  sex  cp  trestbps  chol  fbs  restecg  thalach  exang  oldpeak  slope  \\\n",
       "0   63    1   3       145   233    1        0      150      0      2.3      0   \n",
       "1   37    1   2       130   250    0        1      187      0      3.5      0   \n",
       "2   41    0   1       130   204    0        0      172      0      1.4      2   \n",
       "3   56    1   1       120   236    0        1      178      0      0.8      2   \n",
       "4   57    0   0       120   354    0        1      163      1      0.6      2   \n",
       "\n",
       "   ca  thal  target  \n",
       "0   0     1       1  \n",
       "1   0     2       1  \n",
       "2   0     2       1  \n",
       "3   0     2       1  \n",
       "4   0     2       1  "
      ]
     },
     "execution_count": 2,
     "metadata": {},
     "output_type": "execute_result"
    }
   ],
   "source": [
    "df=pd.read_csv(r\"C:\\Users\\hp\\OneDrive\\Desktop\\ML\\heart-disease.csv\")\n",
    "df.head()"
   ]
  },
  {
   "cell_type": "code",
   "execution_count": 3,
   "metadata": {},
   "outputs": [
    {
     "data": {
      "text/html": [
       "<div>\n",
       "<style scoped>\n",
       "    .dataframe tbody tr th:only-of-type {\n",
       "        vertical-align: middle;\n",
       "    }\n",
       "\n",
       "    .dataframe tbody tr th {\n",
       "        vertical-align: top;\n",
       "    }\n",
       "\n",
       "    .dataframe thead th {\n",
       "        text-align: right;\n",
       "    }\n",
       "</style>\n",
       "<table border=\"1\" class=\"dataframe\">\n",
       "  <thead>\n",
       "    <tr style=\"text-align: right;\">\n",
       "      <th></th>\n",
       "      <th>age</th>\n",
       "      <th>sex</th>\n",
       "      <th>cp</th>\n",
       "      <th>trestbps</th>\n",
       "      <th>chol</th>\n",
       "      <th>fbs</th>\n",
       "      <th>restecg</th>\n",
       "      <th>thalach</th>\n",
       "      <th>exang</th>\n",
       "      <th>oldpeak</th>\n",
       "      <th>slope</th>\n",
       "      <th>ca</th>\n",
       "      <th>thal</th>\n",
       "      <th>target</th>\n",
       "    </tr>\n",
       "  </thead>\n",
       "  <tbody>\n",
       "    <tr>\n",
       "      <th>298</th>\n",
       "      <td>57</td>\n",
       "      <td>0</td>\n",
       "      <td>0</td>\n",
       "      <td>140</td>\n",
       "      <td>241</td>\n",
       "      <td>0</td>\n",
       "      <td>1</td>\n",
       "      <td>123</td>\n",
       "      <td>1</td>\n",
       "      <td>0.2</td>\n",
       "      <td>1</td>\n",
       "      <td>0</td>\n",
       "      <td>3</td>\n",
       "      <td>0</td>\n",
       "    </tr>\n",
       "    <tr>\n",
       "      <th>299</th>\n",
       "      <td>45</td>\n",
       "      <td>1</td>\n",
       "      <td>3</td>\n",
       "      <td>110</td>\n",
       "      <td>264</td>\n",
       "      <td>0</td>\n",
       "      <td>1</td>\n",
       "      <td>132</td>\n",
       "      <td>0</td>\n",
       "      <td>1.2</td>\n",
       "      <td>1</td>\n",
       "      <td>0</td>\n",
       "      <td>3</td>\n",
       "      <td>0</td>\n",
       "    </tr>\n",
       "    <tr>\n",
       "      <th>300</th>\n",
       "      <td>68</td>\n",
       "      <td>1</td>\n",
       "      <td>0</td>\n",
       "      <td>144</td>\n",
       "      <td>193</td>\n",
       "      <td>1</td>\n",
       "      <td>1</td>\n",
       "      <td>141</td>\n",
       "      <td>0</td>\n",
       "      <td>3.4</td>\n",
       "      <td>1</td>\n",
       "      <td>2</td>\n",
       "      <td>3</td>\n",
       "      <td>0</td>\n",
       "    </tr>\n",
       "    <tr>\n",
       "      <th>301</th>\n",
       "      <td>57</td>\n",
       "      <td>1</td>\n",
       "      <td>0</td>\n",
       "      <td>130</td>\n",
       "      <td>131</td>\n",
       "      <td>0</td>\n",
       "      <td>1</td>\n",
       "      <td>115</td>\n",
       "      <td>1</td>\n",
       "      <td>1.2</td>\n",
       "      <td>1</td>\n",
       "      <td>1</td>\n",
       "      <td>3</td>\n",
       "      <td>0</td>\n",
       "    </tr>\n",
       "    <tr>\n",
       "      <th>302</th>\n",
       "      <td>57</td>\n",
       "      <td>0</td>\n",
       "      <td>1</td>\n",
       "      <td>130</td>\n",
       "      <td>236</td>\n",
       "      <td>0</td>\n",
       "      <td>0</td>\n",
       "      <td>174</td>\n",
       "      <td>0</td>\n",
       "      <td>0.0</td>\n",
       "      <td>1</td>\n",
       "      <td>1</td>\n",
       "      <td>2</td>\n",
       "      <td>0</td>\n",
       "    </tr>\n",
       "  </tbody>\n",
       "</table>\n",
       "</div>"
      ],
      "text/plain": [
       "     age  sex  cp  trestbps  chol  fbs  restecg  thalach  exang  oldpeak  \\\n",
       "298   57    0   0       140   241    0        1      123      1      0.2   \n",
       "299   45    1   3       110   264    0        1      132      0      1.2   \n",
       "300   68    1   0       144   193    1        1      141      0      3.4   \n",
       "301   57    1   0       130   131    0        1      115      1      1.2   \n",
       "302   57    0   1       130   236    0        0      174      0      0.0   \n",
       "\n",
       "     slope  ca  thal  target  \n",
       "298      1   0     3       0  \n",
       "299      1   0     3       0  \n",
       "300      1   2     3       0  \n",
       "301      1   1     3       0  \n",
       "302      1   1     2       0  "
      ]
     },
     "execution_count": 3,
     "metadata": {},
     "output_type": "execute_result"
    }
   ],
   "source": [
    "df.tail()"
   ]
  },
  {
   "cell_type": "code",
   "execution_count": 4,
   "metadata": {},
   "outputs": [
    {
     "data": {
      "text/plain": [
       "1    165\n",
       "0    138\n",
       "Name: target, dtype: int64"
      ]
     },
     "execution_count": 4,
     "metadata": {},
     "output_type": "execute_result"
    }
   ],
   "source": [
    "df[\"target\"].value_counts()"
   ]
  },
  {
   "cell_type": "code",
   "execution_count": 5,
   "metadata": {},
   "outputs": [
    {
     "data": {
      "text/plain": [
       "<matplotlib.axes._subplots.AxesSubplot at 0x1b868b12cf8>"
      ]
     },
     "execution_count": 5,
     "metadata": {},
     "output_type": "execute_result"
    },
    {
     "data": {
      "image/png": "[encoded data removed]",
      "text/plain": [
       "<Figure size 432x288 with 1 Axes>"
      ]
     },
     "metadata": {
      "needs_background": "light"
     },
     "output_type": "display_data"
    }
   ],
   "source": [
    "df[\"target\"].value_counts().plot(kind=\"bar\")"
   ]
  },
  {
   "cell_type": "code",
   "execution_count": 6,
   "metadata": {},
   "outputs": [
    {
     "data": {
      "text/plain": [
       "age         0\n",
       "sex         0\n",
       "cp          0\n",
       "trestbps    0\n",
       "chol        0\n",
       "fbs         0\n",
       "restecg     0\n",
       "thalach     0\n",
       "exang       0\n",
       "oldpeak     0\n",
       "slope       0\n",
       "ca          0\n",
       "thal        0\n",
       "target      0\n",
       "dtype: int64"
      ]
     },
     "execution_count": 6,
     "metadata": {},
     "output_type": "execute_result"
    }
   ],
   "source": [
    "df.isna().sum()"
   ]
  },
  {
   "cell_type": "code",
   "execution_count": 7,
   "metadata": {},
   "outputs": [
    {
     "data": {
      "text/html": [
       "<div>\n",
       "<style scoped>\n",
       "    .dataframe tbody tr th:only-of-type {\n",
       "        vertical-align: middle;\n",
       "    }\n",
       "\n",
       "    .dataframe tbody tr th {\n",
       "        vertical-align: top;\n",
       "    }\n",
       "\n",
       "    .dataframe thead th {\n",
       "        text-align: right;\n",
       "    }\n",
       "</style>\n",
       "<table border=\"1\" class=\"dataframe\">\n",
       "  <thead>\n",
       "    <tr style=\"text-align: right;\">\n",
       "      <th></th>\n",
       "      <th>age</th>\n",
       "      <th>sex</th>\n",
       "      <th>cp</th>\n",
       "      <th>trestbps</th>\n",
       "      <th>chol</th>\n",
       "      <th>fbs</th>\n",
       "      <th>restecg</th>\n",
       "      <th>thalach</th>\n",
       "      <th>exang</th>\n",
       "      <th>oldpeak</th>\n",
       "      <th>slope</th>\n",
       "      <th>ca</th>\n",
       "      <th>thal</th>\n",
       "      <th>target</th>\n",
       "    </tr>\n",
       "  </thead>\n",
       "  <tbody>\n",
       "    <tr>\n",
       "      <th>count</th>\n",
       "      <td>303.000000</td>\n",
       "      <td>303.000000</td>\n",
       "      <td>303.000000</td>\n",
       "      <td>303.000000</td>\n",
       "      <td>303.000000</td>\n",
       "      <td>303.000000</td>\n",
       "      <td>303.000000</td>\n",
       "      <td>303.000000</td>\n",
       "      <td>303.000000</td>\n",
       "      <td>303.000000</td>\n",
       "      <td>303.000000</td>\n",
       "      <td>303.000000</td>\n",
       "      <td>303.000000</td>\n",
       "      <td>303.000000</td>\n",
       "    </tr>\n",
       "    <tr>\n",
       "      <th>mean</th>\n",
       "      <td>54.366337</td>\n",
       "      <td>0.683168</td>\n",
       "      <td>0.966997</td>\n",
       "      <td>131.623762</td>\n",
       "      <td>246.264026</td>\n",
       "      <td>0.148515</td>\n",
       "      <td>0.528053</td>\n",
       "      <td>149.646865</td>\n",
       "      <td>0.326733</td>\n",
       "      <td>1.039604</td>\n",
       "      <td>1.399340</td>\n",
       "      <td>0.729373</td>\n",
       "      <td>2.313531</td>\n",
       "      <td>0.544554</td>\n",
       "    </tr>\n",
       "    <tr>\n",
       "      <th>std</th>\n",
       "      <td>9.082101</td>\n",
       "      <td>0.466011</td>\n",
       "      <td>1.032052</td>\n",
       "      <td>17.538143</td>\n",
       "      <td>51.830751</td>\n",
       "      <td>0.356198</td>\n",
       "      <td>0.525860</td>\n",
       "      <td>22.905161</td>\n",
       "      <td>0.469794</td>\n",
       "      <td>1.161075</td>\n",
       "      <td>0.616226</td>\n",
       "      <td>1.022606</td>\n",
       "      <td>0.612277</td>\n",
       "      <td>0.498835</td>\n",
       "    </tr>\n",
       "    <tr>\n",
       "      <th>min</th>\n",
       "      <td>29.000000</td>\n",
       "      <td>0.000000</td>\n",
       "      <td>0.000000</td>\n",
       "      <td>94.000000</td>\n",
       "      <td>126.000000</td>\n",
       "      <td>0.000000</td>\n",
       "      <td>0.000000</td>\n",
       "      <td>71.000000</td>\n",
       "      <td>0.000000</td>\n",
       "      <td>0.000000</td>\n",
       "      <td>0.000000</td>\n",
       "      <td>0.000000</td>\n",
       "      <td>0.000000</td>\n",
       "      <td>0.000000</td>\n",
       "    </tr>\n",
       "    <tr>\n",
       "      <th>25%</th>\n",
       "      <td>47.500000</td>\n",
       "      <td>0.000000</td>\n",
       "      <td>0.000000</td>\n",
       "      <td>120.000000</td>\n",
       "      <td>211.000000</td>\n",
       "      <td>0.000000</td>\n",
       "      <td>0.000000</td>\n",
       "      <td>133.500000</td>\n",
       "      <td>0.000000</td>\n",
       "      <td>0.000000</td>\n",
       "      <td>1.000000</td>\n",
       "      <td>0.000000</td>\n",
       "      <td>2.000000</td>\n",
       "      <td>0.000000</td>\n",
       "    </tr>\n",
       "  </tbody>\n",
       "</table>\n",
       "</div>"
      ],
      "text/plain": [
       "              age         sex          cp    trestbps        chol         fbs  \\\n",
       "count  303.000000  303.000000  303.000000  303.000000  303.000000  303.000000   \n",
       "mean    54.366337    0.683168    0.966997  131.623762  246.264026    0.148515   \n",
       "std      9.082101    0.466011    1.032052   17.538143   51.830751    0.356198   \n",
       "min     29.000000    0.000000    0.000000   94.000000  126.000000    0.000000   \n",
       "25%     47.500000    0.000000    0.000000  120.000000  211.000000    0.000000   \n",
       "\n",
       "          restecg     thalach       exang     oldpeak       slope          ca  \\\n",
       "count  303.000000  303.000000  303.000000  303.000000  303.000000  303.000000   \n",
       "mean     0.528053  149.646865    0.326733    1.039604    1.399340    0.729373   \n",
       "std      0.525860   22.905161    0.469794    1.161075    0.616226    1.022606   \n",
       "min      0.000000   71.000000    0.000000    0.000000    0.000000    0.000000   \n",
       "25%      0.000000  133.500000    0.000000    0.000000    1.000000    0.000000   \n",
       "\n",
       "             thal      target  \n",
       "count  303.000000  303.000000  \n",
       "mean     2.313531    0.544554  \n",
       "std      0.612277    0.498835  \n",
       "min      0.000000    0.000000  \n",
       "25%      2.000000    0.000000  "
      ]
     },
     "execution_count": 7,
     "metadata": {},
     "output_type": "execute_result"
    }
   ],
   "source": [
    "df.describe().head()"
   ]
  },
  {
   "cell_type": "markdown",
   "metadata": {},
   "source": [
    "# Finding features"
   ]
  },
  {
   "cell_type": "code",
   "execution_count": 8,
   "metadata": {},
   "outputs": [
    {
     "data": {
      "text/html": [
       "<div>\n",
       "<style scoped>\n",
       "    .dataframe tbody tr th:only-of-type {\n",
       "        vertical-align: middle;\n",
       "    }\n",
       "\n",
       "    .dataframe tbody tr th {\n",
       "        vertical-align: top;\n",
       "    }\n",
       "\n",
       "    .dataframe thead th {\n",
       "        text-align: right;\n",
       "    }\n",
       "</style>\n",
       "<table border=\"1\" class=\"dataframe\">\n",
       "  <thead>\n",
       "    <tr style=\"text-align: right;\">\n",
       "      <th>target</th>\n",
       "      <th>0</th>\n",
       "      <th>1</th>\n",
       "    </tr>\n",
       "    <tr>\n",
       "      <th>sex</th>\n",
       "      <th></th>\n",
       "      <th></th>\n",
       "    </tr>\n",
       "  </thead>\n",
       "  <tbody>\n",
       "    <tr>\n",
       "      <th>0</th>\n",
       "      <td>24</td>\n",
       "      <td>72</td>\n",
       "    </tr>\n",
       "    <tr>\n",
       "      <th>1</th>\n",
       "      <td>114</td>\n",
       "      <td>93</td>\n",
       "    </tr>\n",
       "  </tbody>\n",
       "</table>\n",
       "</div>"
      ],
      "text/plain": [
       "target    0   1\n",
       "sex            \n",
       "0        24  72\n",
       "1       114  93"
      ]
     },
     "execution_count": 8,
     "metadata": {},
     "output_type": "execute_result"
    }
   ],
   "source": [
    "pd.crosstab(df[\"sex\"],df[\"target\"])"
   ]
  },
  {
   "cell_type": "code",
   "execution_count": 9,
   "metadata": {},
   "outputs": [
    {
     "data": {
      "text/plain": [
       "<matplotlib.legend.Legend at 0x1b868e49048>"
      ]
     },
     "execution_count": 9,
     "metadata": {},
     "output_type": "execute_result"
    },
    {
     "data": {
      "image/png": "[encoded data removed]",
      "text/plain": [
       "<Figure size 432x432 with 1 Axes>"
      ]
     },
     "metadata": {
      "needs_background": "light"
     },
     "output_type": "display_data"
    }
   ],
   "source": [
    "pd.crosstab(df[\"target\"],df[\"sex\"]).plot(kind=\"bar\",color=[\"pink\",\"skyblue\"],figsize=(6,6));\n",
    "plt.title(\"Heart disease frequency for Sex\")\n",
    "plt.legend([\"female\",\"male\"])"
   ]
  },
  {
   "cell_type": "code",
   "execution_count": 10,
   "metadata": {},
   "outputs": [
    {
     "data": {
      "text/plain": [
       "<matplotlib.legend.Legend at 0x1b868e63fd0>"
      ]
     },
     "execution_count": 10,
     "metadata": {},
     "output_type": "execute_result"
    },
    {
     "data": {
      "image/png": "[encoded data removed]",
      "text/plain": [
       "<Figure size 432x432 with 1 Axes>"
      ]
     },
     "metadata": {
      "needs_background": "light"
     },
     "output_type": "display_data"
    }
   ],
   "source": [
    "np.random.seed(42)\n",
    "plt.figure(figsize=(6,6));\n",
    "plt.scatter(df.age[df.target==1],\n",
    "           df.trestbps[df.target==1],\n",
    "           c=\"pink\");\n",
    "plt.scatter(df.age[df.target==0],\n",
    "           df.trestbps[df.target==0],\n",
    "           c=\"skyblue\");\n",
    "plt.title(\"Heart disease in function of age and heart rate\")\n",
    "plt.legend([\"disease\",\"no_disease\"])"
   ]
  },
  {
   "cell_type": "code",
   "execution_count": 11,
   "metadata": {},
   "outputs": [
    {
     "data": {
      "text/html": [
       "<div>\n",
       "<style scoped>\n",
       "    .dataframe tbody tr th:only-of-type {\n",
       "        vertical-align: middle;\n",
       "    }\n",
       "\n",
       "    .dataframe tbody tr th {\n",
       "        vertical-align: top;\n",
       "    }\n",
       "\n",
       "    .dataframe thead th {\n",
       "        text-align: right;\n",
       "    }\n",
       "</style>\n",
       "<table border=\"1\" class=\"dataframe\">\n",
       "  <thead>\n",
       "    <tr style=\"text-align: right;\">\n",
       "      <th>target</th>\n",
       "      <th>0</th>\n",
       "      <th>1</th>\n",
       "    </tr>\n",
       "    <tr>\n",
       "      <th>cp</th>\n",
       "      <th></th>\n",
       "      <th></th>\n",
       "    </tr>\n",
       "  </thead>\n",
       "  <tbody>\n",
       "    <tr>\n",
       "      <th>0</th>\n",
       "      <td>104</td>\n",
       "      <td>39</td>\n",
       "    </tr>\n",
       "    <tr>\n",
       "      <th>1</th>\n",
       "      <td>9</td>\n",
       "      <td>41</td>\n",
       "    </tr>\n",
       "    <tr>\n",
       "      <th>2</th>\n",
       "      <td>18</td>\n",
       "      <td>69</td>\n",
       "    </tr>\n",
       "    <tr>\n",
       "      <th>3</th>\n",
       "      <td>7</td>\n",
       "      <td>16</td>\n",
       "    </tr>\n",
       "  </tbody>\n",
       "</table>\n",
       "</div>"
      ],
      "text/plain": [
       "target    0   1\n",
       "cp             \n",
       "0       104  39\n",
       "1         9  41\n",
       "2        18  69\n",
       "3         7  16"
      ]
     },
     "execution_count": 11,
     "metadata": {},
     "output_type": "execute_result"
    }
   ],
   "source": [
    "pd.crosstab(df[\"cp\"],df[\"target\"])"
   ]
  },
  {
   "cell_type": "code",
   "execution_count": 12,
   "metadata": {},
   "outputs": [
    {
     "data": {
      "text/plain": [
       "Text(0.5, 0, 'chest pain')"
      ]
     },
     "execution_count": 12,
     "metadata": {},
     "output_type": "execute_result"
    },
    {
     "data": {
      "image/png": "[encoded data removed]",
      "text/plain": [
       "<Figure size 576x432 with 1 Axes>"
      ]
     },
     "metadata": {
      "needs_background": "light"
     },
     "output_type": "display_data"
    }
   ],
   "source": [
    "pd.crosstab(df[\"cp\"],df[\"target\"]).plot(kind=\"bar\",color=[\"pink\",\"skyblue\"],figsize=(8,6));\n",
    "plt.title(\"Heart disease frequncy per chest pain\")\n",
    "plt.legend([\"no_disease\",\"disease\"])\n",
    "plt.ylabel(\"amount\")\n",
    "plt.xlabel(\"chest pain\")"
   ]
  },
  {
   "cell_type": "code",
   "execution_count": 13,
   "metadata": {},
   "outputs": [
    {
     "data": {
      "text/html": [
       "<div>\n",
       "<style scoped>\n",
       "    .dataframe tbody tr th:only-of-type {\n",
       "        vertical-align: middle;\n",
       "    }\n",
       "\n",
       "    .dataframe tbody tr th {\n",
       "        vertical-align: top;\n",
       "    }\n",
       "\n",
       "    .dataframe thead th {\n",
       "        text-align: right;\n",
       "    }\n",
       "</style>\n",
       "<table border=\"1\" class=\"dataframe\">\n",
       "  <thead>\n",
       "    <tr style=\"text-align: right;\">\n",
       "      <th></th>\n",
       "      <th>age</th>\n",
       "      <th>sex</th>\n",
       "      <th>cp</th>\n",
       "      <th>trestbps</th>\n",
       "      <th>chol</th>\n",
       "      <th>fbs</th>\n",
       "      <th>restecg</th>\n",
       "      <th>thalach</th>\n",
       "      <th>exang</th>\n",
       "      <th>oldpeak</th>\n",
       "      <th>slope</th>\n",
       "      <th>ca</th>\n",
       "      <th>thal</th>\n",
       "      <th>target</th>\n",
       "    </tr>\n",
       "  </thead>\n",
       "  <tbody>\n",
       "    <tr>\n",
       "      <th>age</th>\n",
       "      <td>1.000000</td>\n",
       "      <td>-0.098447</td>\n",
       "      <td>-0.068653</td>\n",
       "      <td>0.279351</td>\n",
       "      <td>0.213678</td>\n",
       "      <td>0.121308</td>\n",
       "      <td>-0.116211</td>\n",
       "      <td>-0.398522</td>\n",
       "      <td>0.096801</td>\n",
       "      <td>0.210013</td>\n",
       "      <td>-0.168814</td>\n",
       "      <td>0.276326</td>\n",
       "      <td>0.068001</td>\n",
       "      <td>-0.225439</td>\n",
       "    </tr>\n",
       "    <tr>\n",
       "      <th>sex</th>\n",
       "      <td>-0.098447</td>\n",
       "      <td>1.000000</td>\n",
       "      <td>-0.049353</td>\n",
       "      <td>-0.056769</td>\n",
       "      <td>-0.197912</td>\n",
       "      <td>0.045032</td>\n",
       "      <td>-0.058196</td>\n",
       "      <td>-0.044020</td>\n",
       "      <td>0.141664</td>\n",
       "      <td>0.096093</td>\n",
       "      <td>-0.030711</td>\n",
       "      <td>0.118261</td>\n",
       "      <td>0.210041</td>\n",
       "      <td>-0.280937</td>\n",
       "    </tr>\n",
       "    <tr>\n",
       "      <th>cp</th>\n",
       "      <td>-0.068653</td>\n",
       "      <td>-0.049353</td>\n",
       "      <td>1.000000</td>\n",
       "      <td>0.047608</td>\n",
       "      <td>-0.076904</td>\n",
       "      <td>0.094444</td>\n",
       "      <td>0.044421</td>\n",
       "      <td>0.295762</td>\n",
       "      <td>-0.394280</td>\n",
       "      <td>-0.149230</td>\n",
       "      <td>0.119717</td>\n",
       "      <td>-0.181053</td>\n",
       "      <td>-0.161736</td>\n",
       "      <td>0.433798</td>\n",
       "    </tr>\n",
       "    <tr>\n",
       "      <th>trestbps</th>\n",
       "      <td>0.279351</td>\n",
       "      <td>-0.056769</td>\n",
       "      <td>0.047608</td>\n",
       "      <td>1.000000</td>\n",
       "      <td>0.123174</td>\n",
       "      <td>0.177531</td>\n",
       "      <td>-0.114103</td>\n",
       "      <td>-0.046698</td>\n",
       "      <td>0.067616</td>\n",
       "      <td>0.193216</td>\n",
       "      <td>-0.121475</td>\n",
       "      <td>0.101389</td>\n",
       "      <td>0.062210</td>\n",
       "      <td>-0.144931</td>\n",
       "    </tr>\n",
       "    <tr>\n",
       "      <th>chol</th>\n",
       "      <td>0.213678</td>\n",
       "      <td>-0.197912</td>\n",
       "      <td>-0.076904</td>\n",
       "      <td>0.123174</td>\n",
       "      <td>1.000000</td>\n",
       "      <td>0.013294</td>\n",
       "      <td>-0.151040</td>\n",
       "      <td>-0.009940</td>\n",
       "      <td>0.067023</td>\n",
       "      <td>0.053952</td>\n",
       "      <td>-0.004038</td>\n",
       "      <td>0.070511</td>\n",
       "      <td>0.098803</td>\n",
       "      <td>-0.085239</td>\n",
       "    </tr>\n",
       "    <tr>\n",
       "      <th>fbs</th>\n",
       "      <td>0.121308</td>\n",
       "      <td>0.045032</td>\n",
       "      <td>0.094444</td>\n",
       "      <td>0.177531</td>\n",
       "      <td>0.013294</td>\n",
       "      <td>1.000000</td>\n",
       "      <td>-0.084189</td>\n",
       "      <td>-0.008567</td>\n",
       "      <td>0.025665</td>\n",
       "      <td>0.005747</td>\n",
       "      <td>-0.059894</td>\n",
       "      <td>0.137979</td>\n",
       "      <td>-0.032019</td>\n",
       "      <td>-0.028046</td>\n",
       "    </tr>\n",
       "    <tr>\n",
       "      <th>restecg</th>\n",
       "      <td>-0.116211</td>\n",
       "      <td>-0.058196</td>\n",
       "      <td>0.044421</td>\n",
       "      <td>-0.114103</td>\n",
       "      <td>-0.151040</td>\n",
       "      <td>-0.084189</td>\n",
       "      <td>1.000000</td>\n",
       "      <td>0.044123</td>\n",
       "      <td>-0.070733</td>\n",
       "      <td>-0.058770</td>\n",
       "      <td>0.093045</td>\n",
       "      <td>-0.072042</td>\n",
       "      <td>-0.011981</td>\n",
       "      <td>0.137230</td>\n",
       "    </tr>\n",
       "    <tr>\n",
       "      <th>thalach</th>\n",
       "      <td>-0.398522</td>\n",
       "      <td>-0.044020</td>\n",
       "      <td>0.295762</td>\n",
       "      <td>-0.046698</td>\n",
       "      <td>-0.009940</td>\n",
       "      <td>-0.008567</td>\n",
       "      <td>0.044123</td>\n",
       "      <td>1.000000</td>\n",
       "      <td>-0.378812</td>\n",
       "      <td>-0.344187</td>\n",
       "      <td>0.386784</td>\n",
       "      <td>-0.213177</td>\n",
       "      <td>-0.096439</td>\n",
       "      <td>0.421741</td>\n",
       "    </tr>\n",
       "    <tr>\n",
       "      <th>exang</th>\n",
       "      <td>0.096801</td>\n",
       "      <td>0.141664</td>\n",
       "      <td>-0.394280</td>\n",
       "      <td>0.067616</td>\n",
       "      <td>0.067023</td>\n",
       "      <td>0.025665</td>\n",
       "      <td>-0.070733</td>\n",
       "      <td>-0.378812</td>\n",
       "      <td>1.000000</td>\n",
       "      <td>0.288223</td>\n",
       "      <td>-0.257748</td>\n",
       "      <td>0.115739</td>\n",
       "      <td>0.206754</td>\n",
       "      <td>-0.436757</td>\n",
       "    </tr>\n",
       "    <tr>\n",
       "      <th>oldpeak</th>\n",
       "      <td>0.210013</td>\n",
       "      <td>0.096093</td>\n",
       "      <td>-0.149230</td>\n",
       "      <td>0.193216</td>\n",
       "      <td>0.053952</td>\n",
       "      <td>0.005747</td>\n",
       "      <td>-0.058770</td>\n",
       "      <td>-0.344187</td>\n",
       "      <td>0.288223</td>\n",
       "      <td>1.000000</td>\n",
       "      <td>-0.577537</td>\n",
       "      <td>0.222682</td>\n",
       "      <td>0.210244</td>\n",
       "      <td>-0.430696</td>\n",
       "    </tr>\n",
       "    <tr>\n",
       "      <th>slope</th>\n",
       "      <td>-0.168814</td>\n",
       "      <td>-0.030711</td>\n",
       "      <td>0.119717</td>\n",
       "      <td>-0.121475</td>\n",
       "      <td>-0.004038</td>\n",
       "      <td>-0.059894</td>\n",
       "      <td>0.093045</td>\n",
       "      <td>0.386784</td>\n",
       "      <td>-0.257748</td>\n",
       "      <td>-0.577537</td>\n",
       "      <td>1.000000</td>\n",
       "      <td>-0.080155</td>\n",
       "      <td>-0.104764</td>\n",
       "      <td>0.345877</td>\n",
       "    </tr>\n",
       "    <tr>\n",
       "      <th>ca</th>\n",
       "      <td>0.276326</td>\n",
       "      <td>0.118261</td>\n",
       "      <td>-0.181053</td>\n",
       "      <td>0.101389</td>\n",
       "      <td>0.070511</td>\n",
       "      <td>0.137979</td>\n",
       "      <td>-0.072042</td>\n",
       "      <td>-0.213177</td>\n",
       "      <td>0.115739</td>\n",
       "      <td>0.222682</td>\n",
       "      <td>-0.080155</td>\n",
       "      <td>1.000000</td>\n",
       "      <td>0.151832</td>\n",
       "      <td>-0.391724</td>\n",
       "    </tr>\n",
       "    <tr>\n",
       "      <th>thal</th>\n",
       "      <td>0.068001</td>\n",
       "      <td>0.210041</td>\n",
       "      <td>-0.161736</td>\n",
       "      <td>0.062210</td>\n",
       "      <td>0.098803</td>\n",
       "      <td>-0.032019</td>\n",
       "      <td>-0.011981</td>\n",
       "      <td>-0.096439</td>\n",
       "      <td>0.206754</td>\n",
       "      <td>0.210244</td>\n",
       "      <td>-0.104764</td>\n",
       "      <td>0.151832</td>\n",
       "      <td>1.000000</td>\n",
       "      <td>-0.344029</td>\n",
       "    </tr>\n",
       "    <tr>\n",
       "      <th>target</th>\n",
       "      <td>-0.225439</td>\n",
       "      <td>-0.280937</td>\n",
       "      <td>0.433798</td>\n",
       "      <td>-0.144931</td>\n",
       "      <td>-0.085239</td>\n",
       "      <td>-0.028046</td>\n",
       "      <td>0.137230</td>\n",
       "      <td>0.421741</td>\n",
       "      <td>-0.436757</td>\n",
       "      <td>-0.430696</td>\n",
       "      <td>0.345877</td>\n",
       "      <td>-0.391724</td>\n",
       "      <td>-0.344029</td>\n",
       "      <td>1.000000</td>\n",
       "    </tr>\n",
       "  </tbody>\n",
       "</table>\n",
       "</div>"
      ],
      "text/plain": [
       "               age       sex        cp  trestbps      chol       fbs  \\\n",
       "age       1.000000 -0.098447 -0.068653  0.279351  0.213678  0.121308   \n",
       "sex      -0.098447  1.000000 -0.049353 -0.056769 -0.197912  0.045032   \n",
       "cp       -0.068653 -0.049353  1.000000  0.047608 -0.076904  0.094444   \n",
       "trestbps  0.279351 -0.056769  0.047608  1.000000  0.123174  0.177531   \n",
       "chol      0.213678 -0.197912 -0.076904  0.123174  1.000000  0.013294   \n",
       "fbs       0.121308  0.045032  0.094444  0.177531  0.013294  1.000000   \n",
       "restecg  -0.116211 -0.058196  0.044421 -0.114103 -0.151040 -0.084189   \n",
       "thalach  -0.398522 -0.044020  0.295762 -0.046698 -0.009940 -0.008567   \n",
       "exang     0.096801  0.141664 -0.394280  0.067616  0.067023  0.025665   \n",
       "oldpeak   0.210013  0.096093 -0.149230  0.193216  0.053952  0.005747   \n",
       "slope    -0.168814 -0.030711  0.119717 -0.121475 -0.004038 -0.059894   \n",
       "ca        0.276326  0.118261 -0.181053  0.101389  0.070511  0.137979   \n",
       "thal      0.068001  0.210041 -0.161736  0.062210  0.098803 -0.032019   \n",
       "target   -0.225439 -0.280937  0.433798 -0.144931 -0.085239 -0.028046   \n",
       "\n",
       "           restecg   thalach     exang   oldpeak     slope        ca  \\\n",
       "age      -0.116211 -0.398522  0.096801  0.210013 -0.168814  0.276326   \n",
       "sex      -0.058196 -0.044020  0.141664  0.096093 -0.030711  0.118261   \n",
       "cp        0.044421  0.295762 -0.394280 -0.149230  0.119717 -0.181053   \n",
       "trestbps -0.114103 -0.046698  0.067616  0.193216 -0.121475  0.101389   \n",
       "chol     -0.151040 -0.009940  0.067023  0.053952 -0.004038  0.070511   \n",
       "fbs      -0.084189 -0.008567  0.025665  0.005747 -0.059894  0.137979   \n",
       "restecg   1.000000  0.044123 -0.070733 -0.058770  0.093045 -0.072042   \n",
       "thalach   0.044123  1.000000 -0.378812 -0.344187  0.386784 -0.213177   \n",
       "exang    -0.070733 -0.378812  1.000000  0.288223 -0.257748  0.115739   \n",
       "oldpeak  -0.058770 -0.344187  0.288223  1.000000 -0.577537  0.222682   \n",
       "slope     0.093045  0.386784 -0.257748 -0.577537  1.000000 -0.080155   \n",
       "ca       -0.072042 -0.213177  0.115739  0.222682 -0.080155  1.000000   \n",
       "thal     -0.011981 -0.096439  0.206754  0.210244 -0.104764  0.151832   \n",
       "target    0.137230  0.421741 -0.436757 -0.430696  0.345877 -0.391724   \n",
       "\n",
       "              thal    target  \n",
       "age       0.068001 -0.225439  \n",
       "sex       0.210041 -0.280937  \n",
       "cp       -0.161736  0.433798  \n",
       "trestbps  0.062210 -0.144931  \n",
       "chol      0.098803 -0.085239  \n",
       "fbs      -0.032019 -0.028046  \n",
       "restecg  -0.011981  0.137230  \n",
       "thalach  -0.096439  0.421741  \n",
       "exang     0.206754 -0.436757  \n",
       "oldpeak   0.210244 -0.430696  \n",
       "slope    -0.104764  0.345877  \n",
       "ca        0.151832 -0.391724  \n",
       "thal      1.000000 -0.344029  \n",
       "target   -0.344029  1.000000  "
      ]
     },
     "execution_count": 13,
     "metadata": {},
     "output_type": "execute_result"
    }
   ],
   "source": [
    "df.corr()"
   ]
  },
  {
   "cell_type": "code",
   "execution_count": 14,
   "metadata": {},
   "outputs": [
    {
     "data": {
      "image/png": "[encoded data removed]",
      "text/plain": [
       "<Figure size 1080x1080 with 2 Axes>"
      ]
     },
     "metadata": {
      "needs_background": "light"
     },
     "output_type": "display_data"
    }
   ],
   "source": [
    "c=df.corr()\n",
    "fig,ax=plt.subplots(figsize=(15,15))\n",
    "ax=sns.heatmap(c,annot=True)\n"
   ]
  },
  {
   "cell_type": "markdown",
   "metadata": {},
   "source": [
    "# spliting data"
   ]
  },
  {
   "cell_type": "code",
   "execution_count": 15,
   "metadata": {},
   "outputs": [],
   "source": [
    "x=df.drop(\"target\",axis=1)\n",
    "y=df[\"target\"]"
   ]
  },
  {
   "cell_type": "code",
   "execution_count": 16,
   "metadata": {},
   "outputs": [],
   "source": [
    "x_train,x_test,y_train,y_test=train_test_split(x,y,test_size=0.2)"
   ]
  },
  {
   "cell_type": "markdown",
   "metadata": {},
   "source": [
    "# Modelling- Random Forest Classifier"
   ]
  },
  {
   "cell_type": "code",
   "execution_count": 17,
   "metadata": {},
   "outputs": [
    {
     "data": {
      "text/plain": [
       "RandomForestClassifier(bootstrap=True, class_weight=None, criterion='gini',\n",
       "            max_depth=1, max_features='auto', max_leaf_nodes=None,\n",
       "            min_impurity_decrease=0.0, min_impurity_split=None,\n",
       "            min_samples_leaf=1, min_samples_split=2,\n",
       "            min_weight_fraction_leaf=0.0, n_estimators=1000, n_jobs=None,\n",
       "            oob_score=False, random_state=1, verbose=0, warm_start=False)"
      ]
     },
     "execution_count": 17,
     "metadata": {},
     "output_type": "execute_result"
    }
   ],
   "source": [
    "np.random.seed(42)\n",
    "random=RandomForestClassifier(n_estimators = 1000, random_state = 1, max_depth=1)\n",
    "random.fit(x_train,y_train)"
   ]
  },
  {
   "cell_type": "code",
   "execution_count": 18,
   "metadata": {},
   "outputs": [],
   "source": [
    "def evaluate(y_true,y_pred):\n",
    "    print(\"accuracy is:\",accuracy_score(y_true,y_pred)*100,\"%\")\n",
    "    print(\"recall_score is:\",recall_score(y_true,y_pred))\n",
    "    print(\"precision is:\",precision_score(y_true,y_pred))\n",
    "    print(\"f1_socre is:\",f1_score(y_true,y_pred))"
   ]
  },
  {
   "cell_type": "code",
   "execution_count": 19,
   "metadata": {},
   "outputs": [
    {
     "data": {
      "text/plain": [
       "array([0, 1, 1, 0, 1, 1, 1, 0, 0, 1, 1, 1, 1, 0, 1, 1, 1, 0, 0, 0, 1, 0,\n",
       "       1, 1, 1, 1, 1, 1, 0, 1, 0, 0, 0, 0, 1, 0, 1, 1, 1, 1, 1, 1, 1, 1,\n",
       "       1, 0, 1, 1, 0, 0, 0, 0, 1, 1, 0, 0, 0, 1, 0, 0, 0], dtype=int64)"
      ]
     },
     "execution_count": 19,
     "metadata": {},
     "output_type": "execute_result"
    }
   ],
   "source": [
    "ran_pred=random.predict(x_test)\n",
    "ran_pred"
   ]
  },
  {
   "cell_type": "code",
   "execution_count": 20,
   "metadata": {},
   "outputs": [
    {
     "name": "stdout",
     "output_type": "stream",
     "text": [
      "accuracy is: 88.52459016393442 %\n",
      "recall_score is: 0.9375\n",
      "precision is: 0.8571428571428571\n",
      "f1_socre is: 0.8955223880597014\n"
     ]
    }
   ],
   "source": [
    "random_score=evaluate(y_test,ran_pred)\n",
    "random_score"
   ]
  },
  {
   "cell_type": "code",
   "execution_count": 21,
   "metadata": {},
   "outputs": [
    {
     "data": {
      "text/plain": [
       "82.82513661202186"
      ]
     },
     "execution_count": 21,
     "metadata": {},
     "output_type": "execute_result"
    }
   ],
   "source": [
    "accuracy=(cross_val_score(random,x,y,cv=5).mean()*100)\n",
    "accuracy"
   ]
  },
  {
   "cell_type": "markdown",
   "metadata": {},
   "source": [
    "# Tuning Hyperparameters for randomforestclassifier"
   ]
  },
  {
   "cell_type": "code",
   "execution_count": 22,
   "metadata": {},
   "outputs": [
    {
     "name": "stdout",
     "output_type": "stream",
     "text": [
      "Fitting 5 folds for each of 20 candidates, totalling 100 fits\n",
      "[CV] n_estimators=100, min_samples_split=8, min_samples_leaf=11, max_depth=10 \n",
      "[CV]  n_estimators=100, min_samples_split=8, min_samples_leaf=11, max_depth=10, total=   0.0s\n",
      "[CV] n_estimators=100, min_samples_split=8, min_samples_leaf=11, max_depth=10 \n"
     ]
    },
    {
     "name": "stderr",
     "output_type": "stream",
     "text": [
      "[Parallel(n_jobs=1)]: Using backend SequentialBackend with 1 concurrent workers.\n",
      "[Parallel(n_jobs=1)]: Done   1 out of   1 | elapsed:    0.0s remaining:    0.0s\n"
     ]
    },
    {
     "name": "stdout",
     "output_type": "stream",
     "text": [
      "[CV]  n_estimators=100, min_samples_split=8, min_samples_leaf=11, max_depth=10, total=   0.0s\n",
      "[CV] n_estimators=100, min_samples_split=8, min_samples_leaf=11, max_depth=10 \n",
      "[CV]  n_estimators=100, min_samples_split=8, min_samples_leaf=11, max_depth=10, total=   0.0s\n",
      "[CV] n_estimators=100, min_samples_split=8, min_samples_leaf=11, max_depth=10 \n",
      "[CV]  n_estimators=100, min_samples_split=8, min_samples_leaf=11, max_depth=10, total=   0.0s\n",
      "[CV] n_estimators=100, min_samples_split=8, min_samples_leaf=11, max_depth=10 \n",
      "[CV]  n_estimators=100, min_samples_split=8, min_samples_leaf=11, max_depth=10, total=   0.0s\n",
      "[CV] n_estimators=500, min_samples_split=18, min_samples_leaf=1, max_depth=5 \n",
      "[CV]  n_estimators=500, min_samples_split=18, min_samples_leaf=1, max_depth=5, total=   0.3s\n",
      "[CV] n_estimators=500, min_samples_split=18, min_samples_leaf=1, max_depth=5 \n",
      "[CV]  n_estimators=500, min_samples_split=18, min_samples_leaf=1, max_depth=5, total=   0.3s\n",
      "[CV] n_estimators=500, min_samples_split=18, min_samples_leaf=1, max_depth=5 \n",
      "[CV]  n_estimators=500, min_samples_split=18, min_samples_leaf=1, max_depth=5, total=   0.3s\n",
      "[CV] n_estimators=500, min_samples_split=18, min_samples_leaf=1, max_depth=5 \n",
      "[CV]  n_estimators=500, min_samples_split=18, min_samples_leaf=1, max_depth=5, total=   0.3s\n",
      "[CV] n_estimators=500, min_samples_split=18, min_samples_leaf=1, max_depth=5 \n",
      "[CV]  n_estimators=500, min_samples_split=18, min_samples_leaf=1, max_depth=5, total=   0.3s\n",
      "[CV] n_estimators=200, min_samples_split=6, min_samples_leaf=19, max_depth=3 \n",
      "[CV]  n_estimators=200, min_samples_split=6, min_samples_leaf=19, max_depth=3, total=   0.1s\n",
      "[CV] n_estimators=200, min_samples_split=6, min_samples_leaf=19, max_depth=3 \n",
      "[CV]  n_estimators=200, min_samples_split=6, min_samples_leaf=19, max_depth=3, total=   0.1s\n",
      "[CV] n_estimators=200, min_samples_split=6, min_samples_leaf=19, max_depth=3 \n",
      "[CV]  n_estimators=200, min_samples_split=6, min_samples_leaf=19, max_depth=3, total=   0.0s\n",
      "[CV] n_estimators=200, min_samples_split=6, min_samples_leaf=19, max_depth=3 \n",
      "[CV]  n_estimators=200, min_samples_split=6, min_samples_leaf=19, max_depth=3, total=   0.1s\n",
      "[CV] n_estimators=200, min_samples_split=6, min_samples_leaf=19, max_depth=3 \n",
      "[CV]  n_estimators=200, min_samples_split=6, min_samples_leaf=19, max_depth=3, total=   0.0s\n",
      "[CV] n_estimators=1000, min_samples_split=12, min_samples_leaf=7, max_depth=None \n",
      "[CV]  n_estimators=1000, min_samples_split=12, min_samples_leaf=7, max_depth=None, total=   0.7s\n",
      "[CV] n_estimators=1000, min_samples_split=12, min_samples_leaf=7, max_depth=None \n",
      "[CV]  n_estimators=1000, min_samples_split=12, min_samples_leaf=7, max_depth=None, total=   0.7s\n",
      "[CV] n_estimators=1000, min_samples_split=12, min_samples_leaf=7, max_depth=None \n",
      "[CV]  n_estimators=1000, min_samples_split=12, min_samples_leaf=7, max_depth=None, total=   0.7s\n",
      "[CV] n_estimators=1000, min_samples_split=12, min_samples_leaf=7, max_depth=None \n",
      "[CV]  n_estimators=1000, min_samples_split=12, min_samples_leaf=7, max_depth=None, total=   0.7s\n",
      "[CV] n_estimators=1000, min_samples_split=12, min_samples_leaf=7, max_depth=None \n",
      "[CV]  n_estimators=1000, min_samples_split=12, min_samples_leaf=7, max_depth=None, total=   0.7s\n",
      "[CV] n_estimators=100, min_samples_split=6, min_samples_leaf=17, max_depth=5 \n",
      "[CV]  n_estimators=100, min_samples_split=6, min_samples_leaf=17, max_depth=5, total=   0.0s\n",
      "[CV] n_estimators=100, min_samples_split=6, min_samples_leaf=17, max_depth=5 \n",
      "[CV]  n_estimators=100, min_samples_split=6, min_samples_leaf=17, max_depth=5, total=   0.0s\n",
      "[CV] n_estimators=100, min_samples_split=6, min_samples_leaf=17, max_depth=5 \n",
      "[CV]  n_estimators=100, min_samples_split=6, min_samples_leaf=17, max_depth=5, total=   0.0s\n",
      "[CV] n_estimators=100, min_samples_split=6, min_samples_leaf=17, max_depth=5 \n",
      "[CV]  n_estimators=100, min_samples_split=6, min_samples_leaf=17, max_depth=5, total=   0.0s\n",
      "[CV] n_estimators=100, min_samples_split=6, min_samples_leaf=17, max_depth=5 \n",
      "[CV]  n_estimators=100, min_samples_split=6, min_samples_leaf=17, max_depth=5, total=   0.0s\n",
      "[CV] n_estimators=10, min_samples_split=12, min_samples_leaf=3, max_depth=None \n",
      "[CV]  n_estimators=10, min_samples_split=12, min_samples_leaf=3, max_depth=None, total=   0.0s\n",
      "[CV] n_estimators=10, min_samples_split=12, min_samples_leaf=3, max_depth=None \n",
      "[CV]  n_estimators=10, min_samples_split=12, min_samples_leaf=3, max_depth=None, total=   0.0s\n",
      "[CV] n_estimators=10, min_samples_split=12, min_samples_leaf=3, max_depth=None \n",
      "[CV]  n_estimators=10, min_samples_split=12, min_samples_leaf=3, max_depth=None, total=   0.0s\n",
      "[CV] n_estimators=10, min_samples_split=12, min_samples_leaf=3, max_depth=None \n",
      "[CV]  n_estimators=10, min_samples_split=12, min_samples_leaf=3, max_depth=None, total=   0.0s\n",
      "[CV] n_estimators=10, min_samples_split=12, min_samples_leaf=3, max_depth=None \n",
      "[CV]  n_estimators=10, min_samples_split=12, min_samples_leaf=3, max_depth=None, total=   0.0s\n",
      "[CV] n_estimators=1000, min_samples_split=10, min_samples_leaf=11, max_depth=None \n",
      "[CV]  n_estimators=1000, min_samples_split=10, min_samples_leaf=11, max_depth=None, total=   0.7s\n",
      "[CV] n_estimators=1000, min_samples_split=10, min_samples_leaf=11, max_depth=None \n",
      "[CV]  n_estimators=1000, min_samples_split=10, min_samples_leaf=11, max_depth=None, total=   0.6s\n",
      "[CV] n_estimators=1000, min_samples_split=10, min_samples_leaf=11, max_depth=None \n",
      "[CV]  n_estimators=1000, min_samples_split=10, min_samples_leaf=11, max_depth=None, total=   0.7s\n",
      "[CV] n_estimators=1000, min_samples_split=10, min_samples_leaf=11, max_depth=None \n",
      "[CV]  n_estimators=1000, min_samples_split=10, min_samples_leaf=11, max_depth=None, total=   0.7s\n",
      "[CV] n_estimators=1000, min_samples_split=10, min_samples_leaf=11, max_depth=None \n",
      "[CV]  n_estimators=1000, min_samples_split=10, min_samples_leaf=11, max_depth=None, total=   0.7s\n",
      "[CV] n_estimators=1000, min_samples_split=4, min_samples_leaf=15, max_depth=None \n",
      "[CV]  n_estimators=1000, min_samples_split=4, min_samples_leaf=15, max_depth=None, total=   0.7s\n",
      "[CV] n_estimators=1000, min_samples_split=4, min_samples_leaf=15, max_depth=None \n",
      "[CV]  n_estimators=1000, min_samples_split=4, min_samples_leaf=15, max_depth=None, total=   0.7s\n",
      "[CV] n_estimators=1000, min_samples_split=4, min_samples_leaf=15, max_depth=None \n",
      "[CV]  n_estimators=1000, min_samples_split=4, min_samples_leaf=15, max_depth=None, total=   0.7s\n",
      "[CV] n_estimators=1000, min_samples_split=4, min_samples_leaf=15, max_depth=None \n",
      "[CV]  n_estimators=1000, min_samples_split=4, min_samples_leaf=15, max_depth=None, total=   0.6s\n",
      "[CV] n_estimators=1000, min_samples_split=4, min_samples_leaf=15, max_depth=None \n",
      "[CV]  n_estimators=1000, min_samples_split=4, min_samples_leaf=15, max_depth=None, total=   0.7s\n",
      "[CV] n_estimators=200, min_samples_split=16, min_samples_leaf=13, max_depth=10 \n",
      "[CV]  n_estimators=200, min_samples_split=16, min_samples_leaf=13, max_depth=10, total=   0.0s\n",
      "[CV] n_estimators=200, min_samples_split=16, min_samples_leaf=13, max_depth=10 \n",
      "[CV]  n_estimators=200, min_samples_split=16, min_samples_leaf=13, max_depth=10, total=   0.1s\n",
      "[CV] n_estimators=200, min_samples_split=16, min_samples_leaf=13, max_depth=10 \n",
      "[CV]  n_estimators=200, min_samples_split=16, min_samples_leaf=13, max_depth=10, total=   0.0s\n",
      "[CV] n_estimators=200, min_samples_split=16, min_samples_leaf=13, max_depth=10 \n",
      "[CV]  n_estimators=200, min_samples_split=16, min_samples_leaf=13, max_depth=10, total=   0.1s\n",
      "[CV] n_estimators=200, min_samples_split=16, min_samples_leaf=13, max_depth=10 \n",
      "[CV]  n_estimators=200, min_samples_split=16, min_samples_leaf=13, max_depth=10, total=   0.0s\n",
      "[CV] n_estimators=200, min_samples_split=6, min_samples_leaf=5, max_depth=5 \n",
      "[CV]  n_estimators=200, min_samples_split=6, min_samples_leaf=5, max_depth=5, total=   0.1s\n",
      "[CV] n_estimators=200, min_samples_split=6, min_samples_leaf=5, max_depth=5 \n",
      "[CV]  n_estimators=200, min_samples_split=6, min_samples_leaf=5, max_depth=5, total=   0.1s\n",
      "[CV] n_estimators=200, min_samples_split=6, min_samples_leaf=5, max_depth=5 \n",
      "[CV]  n_estimators=200, min_samples_split=6, min_samples_leaf=5, max_depth=5, total=   0.1s\n",
      "[CV] n_estimators=200, min_samples_split=6, min_samples_leaf=5, max_depth=5 \n",
      "[CV]  n_estimators=200, min_samples_split=6, min_samples_leaf=5, max_depth=5, total=   0.1s\n",
      "[CV] n_estimators=200, min_samples_split=6, min_samples_leaf=5, max_depth=5 \n"
     ]
    },
    {
     "name": "stdout",
     "output_type": "stream",
     "text": [
      "[CV]  n_estimators=200, min_samples_split=6, min_samples_leaf=5, max_depth=5, total=   0.1s\n",
      "[CV] n_estimators=1000, min_samples_split=18, min_samples_leaf=13, max_depth=10 \n",
      "[CV]  n_estimators=1000, min_samples_split=18, min_samples_leaf=13, max_depth=10, total=   0.7s\n",
      "[CV] n_estimators=1000, min_samples_split=18, min_samples_leaf=13, max_depth=10 \n",
      "[CV]  n_estimators=1000, min_samples_split=18, min_samples_leaf=13, max_depth=10, total=   0.6s\n",
      "[CV] n_estimators=1000, min_samples_split=18, min_samples_leaf=13, max_depth=10 \n",
      "[CV]  n_estimators=1000, min_samples_split=18, min_samples_leaf=13, max_depth=10, total=   0.7s\n",
      "[CV] n_estimators=1000, min_samples_split=18, min_samples_leaf=13, max_depth=10 \n",
      "[CV]  n_estimators=1000, min_samples_split=18, min_samples_leaf=13, max_depth=10, total=   0.7s\n",
      "[CV] n_estimators=1000, min_samples_split=18, min_samples_leaf=13, max_depth=10 \n",
      "[CV]  n_estimators=1000, min_samples_split=18, min_samples_leaf=13, max_depth=10, total=   0.6s\n",
      "[CV] n_estimators=200, min_samples_split=4, min_samples_leaf=1, max_depth=5 \n",
      "[CV]  n_estimators=200, min_samples_split=4, min_samples_leaf=1, max_depth=5, total=   0.1s\n",
      "[CV] n_estimators=200, min_samples_split=4, min_samples_leaf=1, max_depth=5 \n",
      "[CV]  n_estimators=200, min_samples_split=4, min_samples_leaf=1, max_depth=5, total=   0.1s\n",
      "[CV] n_estimators=200, min_samples_split=4, min_samples_leaf=1, max_depth=5 \n",
      "[CV]  n_estimators=200, min_samples_split=4, min_samples_leaf=1, max_depth=5, total=   0.1s\n",
      "[CV] n_estimators=200, min_samples_split=4, min_samples_leaf=1, max_depth=5 \n",
      "[CV]  n_estimators=200, min_samples_split=4, min_samples_leaf=1, max_depth=5, total=   0.1s\n",
      "[CV] n_estimators=200, min_samples_split=4, min_samples_leaf=1, max_depth=5 \n",
      "[CV]  n_estimators=200, min_samples_split=4, min_samples_leaf=1, max_depth=5, total=   0.1s\n",
      "[CV] n_estimators=10, min_samples_split=6, min_samples_leaf=15, max_depth=5 \n",
      "[CV]  n_estimators=10, min_samples_split=6, min_samples_leaf=15, max_depth=5, total=   0.0s\n",
      "[CV] n_estimators=10, min_samples_split=6, min_samples_leaf=15, max_depth=5 \n",
      "[CV]  n_estimators=10, min_samples_split=6, min_samples_leaf=15, max_depth=5, total=   0.0s\n",
      "[CV] n_estimators=10, min_samples_split=6, min_samples_leaf=15, max_depth=5 \n",
      "[CV]  n_estimators=10, min_samples_split=6, min_samples_leaf=15, max_depth=5, total=   0.0s\n",
      "[CV] n_estimators=10, min_samples_split=6, min_samples_leaf=15, max_depth=5 \n",
      "[CV]  n_estimators=10, min_samples_split=6, min_samples_leaf=15, max_depth=5, total=   0.0s\n",
      "[CV] n_estimators=10, min_samples_split=6, min_samples_leaf=15, max_depth=5 \n",
      "[CV]  n_estimators=10, min_samples_split=6, min_samples_leaf=15, max_depth=5, total=   0.0s\n",
      "[CV] n_estimators=100, min_samples_split=2, min_samples_leaf=1, max_depth=5 \n",
      "[CV]  n_estimators=100, min_samples_split=2, min_samples_leaf=1, max_depth=5, total=   0.0s\n",
      "[CV] n_estimators=100, min_samples_split=2, min_samples_leaf=1, max_depth=5 \n",
      "[CV]  n_estimators=100, min_samples_split=2, min_samples_leaf=1, max_depth=5, total=   0.0s\n",
      "[CV] n_estimators=100, min_samples_split=2, min_samples_leaf=1, max_depth=5 \n",
      "[CV]  n_estimators=100, min_samples_split=2, min_samples_leaf=1, max_depth=5, total=   0.0s\n",
      "[CV] n_estimators=100, min_samples_split=2, min_samples_leaf=1, max_depth=5 \n",
      "[CV]  n_estimators=100, min_samples_split=2, min_samples_leaf=1, max_depth=5, total=   0.0s\n",
      "[CV] n_estimators=100, min_samples_split=2, min_samples_leaf=1, max_depth=5 \n",
      "[CV]  n_estimators=100, min_samples_split=2, min_samples_leaf=1, max_depth=5, total=   0.0s\n",
      "[CV] n_estimators=100, min_samples_split=4, min_samples_leaf=7, max_depth=3 \n",
      "[CV]  n_estimators=100, min_samples_split=4, min_samples_leaf=7, max_depth=3, total=   0.0s\n",
      "[CV] n_estimators=100, min_samples_split=4, min_samples_leaf=7, max_depth=3 \n",
      "[CV]  n_estimators=100, min_samples_split=4, min_samples_leaf=7, max_depth=3, total=   0.0s\n",
      "[CV] n_estimators=100, min_samples_split=4, min_samples_leaf=7, max_depth=3 \n",
      "[CV]  n_estimators=100, min_samples_split=4, min_samples_leaf=7, max_depth=3, total=   0.0s\n",
      "[CV] n_estimators=100, min_samples_split=4, min_samples_leaf=7, max_depth=3 \n",
      "[CV]  n_estimators=100, min_samples_split=4, min_samples_leaf=7, max_depth=3, total=   0.0s\n",
      "[CV] n_estimators=100, min_samples_split=4, min_samples_leaf=7, max_depth=3 \n",
      "[CV]  n_estimators=100, min_samples_split=4, min_samples_leaf=7, max_depth=3, total=   0.0s\n",
      "[CV] n_estimators=500, min_samples_split=6, min_samples_leaf=17, max_depth=5 \n",
      "[CV]  n_estimators=500, min_samples_split=6, min_samples_leaf=17, max_depth=5, total=   0.3s\n",
      "[CV] n_estimators=500, min_samples_split=6, min_samples_leaf=17, max_depth=5 \n",
      "[CV]  n_estimators=500, min_samples_split=6, min_samples_leaf=17, max_depth=5, total=   0.3s\n",
      "[CV] n_estimators=500, min_samples_split=6, min_samples_leaf=17, max_depth=5 \n",
      "[CV]  n_estimators=500, min_samples_split=6, min_samples_leaf=17, max_depth=5, total=   0.3s\n",
      "[CV] n_estimators=500, min_samples_split=6, min_samples_leaf=17, max_depth=5 \n",
      "[CV]  n_estimators=500, min_samples_split=6, min_samples_leaf=17, max_depth=5, total=   0.3s\n",
      "[CV] n_estimators=500, min_samples_split=6, min_samples_leaf=17, max_depth=5 \n",
      "[CV]  n_estimators=500, min_samples_split=6, min_samples_leaf=17, max_depth=5, total=   0.3s\n",
      "[CV] n_estimators=200, min_samples_split=6, min_samples_leaf=5, max_depth=3 \n",
      "[CV]  n_estimators=200, min_samples_split=6, min_samples_leaf=5, max_depth=3, total=   0.1s\n",
      "[CV] n_estimators=200, min_samples_split=6, min_samples_leaf=5, max_depth=3 \n",
      "[CV]  n_estimators=200, min_samples_split=6, min_samples_leaf=5, max_depth=3, total=   0.1s\n",
      "[CV] n_estimators=200, min_samples_split=6, min_samples_leaf=5, max_depth=3 \n",
      "[CV]  n_estimators=200, min_samples_split=6, min_samples_leaf=5, max_depth=3, total=   0.0s\n",
      "[CV] n_estimators=200, min_samples_split=6, min_samples_leaf=5, max_depth=3 \n",
      "[CV]  n_estimators=200, min_samples_split=6, min_samples_leaf=5, max_depth=3, total=   0.1s\n",
      "[CV] n_estimators=200, min_samples_split=6, min_samples_leaf=5, max_depth=3 \n",
      "[CV]  n_estimators=200, min_samples_split=6, min_samples_leaf=5, max_depth=3, total=   0.0s\n",
      "[CV] n_estimators=100, min_samples_split=12, min_samples_leaf=7, max_depth=5 \n",
      "[CV]  n_estimators=100, min_samples_split=12, min_samples_leaf=7, max_depth=5, total=   0.0s\n",
      "[CV] n_estimators=100, min_samples_split=12, min_samples_leaf=7, max_depth=5 \n",
      "[CV]  n_estimators=100, min_samples_split=12, min_samples_leaf=7, max_depth=5, total=   0.0s\n",
      "[CV] n_estimators=100, min_samples_split=12, min_samples_leaf=7, max_depth=5 \n",
      "[CV]  n_estimators=100, min_samples_split=12, min_samples_leaf=7, max_depth=5, total=   0.0s\n",
      "[CV] n_estimators=100, min_samples_split=12, min_samples_leaf=7, max_depth=5 \n",
      "[CV]  n_estimators=100, min_samples_split=12, min_samples_leaf=7, max_depth=5, total=   0.0s\n",
      "[CV] n_estimators=100, min_samples_split=12, min_samples_leaf=7, max_depth=5 \n",
      "[CV]  n_estimators=100, min_samples_split=12, min_samples_leaf=7, max_depth=5, total=   0.0s\n",
      "[CV] n_estimators=200, min_samples_split=14, min_samples_leaf=3, max_depth=3 \n",
      "[CV]  n_estimators=200, min_samples_split=14, min_samples_leaf=3, max_depth=3, total=   0.1s\n",
      "[CV] n_estimators=200, min_samples_split=14, min_samples_leaf=3, max_depth=3 \n",
      "[CV]  n_estimators=200, min_samples_split=14, min_samples_leaf=3, max_depth=3, total=   0.1s\n",
      "[CV] n_estimators=200, min_samples_split=14, min_samples_leaf=3, max_depth=3 \n",
      "[CV]  n_estimators=200, min_samples_split=14, min_samples_leaf=3, max_depth=3, total=   0.1s\n",
      "[CV] n_estimators=200, min_samples_split=14, min_samples_leaf=3, max_depth=3 \n",
      "[CV]  n_estimators=200, min_samples_split=14, min_samples_leaf=3, max_depth=3, total=   0.0s\n",
      "[CV] n_estimators=200, min_samples_split=14, min_samples_leaf=3, max_depth=3 \n",
      "[CV]  n_estimators=200, min_samples_split=14, min_samples_leaf=3, max_depth=3, total=   0.1s\n",
      "[CV] n_estimators=200, min_samples_split=4, min_samples_leaf=17, max_depth=10 \n",
      "[CV]  n_estimators=200, min_samples_split=4, min_samples_leaf=17, max_depth=10, total=   0.1s\n",
      "[CV] n_estimators=200, min_samples_split=4, min_samples_leaf=17, max_depth=10 \n",
      "[CV]  n_estimators=200, min_samples_split=4, min_samples_leaf=17, max_depth=10, total=   0.1s\n",
      "[CV] n_estimators=200, min_samples_split=4, min_samples_leaf=17, max_depth=10 \n",
      "[CV]  n_estimators=200, min_samples_split=4, min_samples_leaf=17, max_depth=10, total=   0.0s\n",
      "[CV] n_estimators=200, min_samples_split=4, min_samples_leaf=17, max_depth=10 \n"
     ]
    },
    {
     "name": "stdout",
     "output_type": "stream",
     "text": [
      "[CV]  n_estimators=200, min_samples_split=4, min_samples_leaf=17, max_depth=10, total=   0.1s\n",
      "[CV] n_estimators=200, min_samples_split=4, min_samples_leaf=17, max_depth=10 \n",
      "[CV]  n_estimators=200, min_samples_split=4, min_samples_leaf=17, max_depth=10, total=   0.0s\n"
     ]
    },
    {
     "name": "stderr",
     "output_type": "stream",
     "text": [
      "[Parallel(n_jobs=1)]: Done 100 out of 100 | elapsed:   29.5s finished\n"
     ]
    },
    {
     "data": {
      "text/plain": [
       "RandomizedSearchCV(cv=5, error_score='raise-deprecating',\n",
       "          estimator=RandomForestClassifier(bootstrap=True, class_weight=None, criterion='gini',\n",
       "            max_depth=None, max_features='auto', max_leaf_nodes=None,\n",
       "            min_impurity_decrease=0.0, min_impurity_split=None,\n",
       "            min_samples_leaf=1, min_samples_split=2,\n",
       "            min_weight_fraction_leaf=0.0, n_estimators='warn', n_jobs=None,\n",
       "            oob_score=False, random_state=None, verbose=0,\n",
       "            warm_start=False),\n",
       "          fit_params=None, iid='warn', n_iter=20, n_jobs=None,\n",
       "          param_distributions={'n_estimators': [10, 100, 1000, 500, 200], 'min_samples_split': array([ 2,  4,  6,  8, 10, 12, 14, 16, 18]), 'min_samples_leaf': array([ 1,  3,  5,  7,  9, 11, 13, 15, 17, 19]), 'max_depth': [None, 3, 5, 10]},\n",
       "          pre_dispatch='2*n_jobs', random_state=None, refit=True,\n",
       "          return_train_score='warn', scoring=None, verbose=2)"
      ]
     },
     "execution_count": 22,
     "metadata": {},
     "output_type": "execute_result"
    }
   ],
   "source": [
    "params={\"n_estimators\": [10,100,1000,500,200],\n",
    "           \"max_depth\": [None, 3, 5, 10],\n",
    "           \"min_samples_split\": np.arange(2, 20, 2),\n",
    "           \"min_samples_leaf\": np.arange(1, 20, 2)}\n",
    "\n",
    "rv=RandomizedSearchCV(RandomForestClassifier(),params,cv=5,n_iter=20,verbose=2)\n",
    "rv.fit(x_train,y_train)\n",
    "\n"
   ]
  },
  {
   "cell_type": "code",
   "execution_count": 23,
   "metadata": {},
   "outputs": [
    {
     "data": {
      "text/plain": [
       "{'max_depth': 5,\n",
       " 'min_samples_leaf': 17,\n",
       " 'min_samples_split': 6,\n",
       " 'n_estimators': 100}"
      ]
     },
     "execution_count": 23,
     "metadata": {},
     "output_type": "execute_result"
    }
   ],
   "source": [
    "rv.best_params_"
   ]
  },
  {
   "cell_type": "markdown",
   "metadata": {},
   "source": [
    "# Modelling KNN"
   ]
  },
  {
   "cell_type": "code",
   "execution_count": 24,
   "metadata": {},
   "outputs": [
    {
     "data": {
      "text/plain": [
       "KNeighborsClassifier(algorithm='ball_tree', leaf_size=30, metric='minkowski',\n",
       "           metric_params=None, n_jobs=None, n_neighbors=23, p=2,\n",
       "           weights='uniform')"
      ]
     },
     "execution_count": 24,
     "metadata": {},
     "output_type": "execute_result"
    }
   ],
   "source": [
    "from sklearn.neighbors import KNeighborsClassifier\n",
    "\n",
    "knn=KNeighborsClassifier(n_neighbors = 23,algorithm= 'ball_tree',  weights= 'uniform')\n",
    "knn.fit(x_train,y_train)\n"
   ]
  },
  {
   "cell_type": "code",
   "execution_count": 25,
   "metadata": {},
   "outputs": [
    {
     "data": {
      "text/plain": [
       "array([0, 1, 1, 0, 0, 1, 1, 0, 0, 1, 0, 1, 1, 0, 1, 1, 1, 0, 0, 0, 1, 0,\n",
       "       0, 1, 0, 1, 0, 1, 0, 0, 0, 0, 0, 1, 0, 0, 1, 1, 1, 1, 1, 1, 0, 1,\n",
       "       1, 0, 1, 1, 1, 1, 1, 1, 0, 1, 1, 0, 0, 1, 0, 1, 0], dtype=int64)"
      ]
     },
     "execution_count": 25,
     "metadata": {},
     "output_type": "execute_result"
    }
   ],
   "source": [
    "knn_pred=knn.predict(x_test)\n",
    "knn_pred\n"
   ]
  },
  {
   "cell_type": "code",
   "execution_count": 26,
   "metadata": {},
   "outputs": [
    {
     "name": "stdout",
     "output_type": "stream",
     "text": [
      "accuracy is: 72.1311475409836 %\n",
      "recall_score is: 0.75\n",
      "precision is: 0.7272727272727273\n",
      "f1_socre is: 0.7384615384615384\n"
     ]
    }
   ],
   "source": [
    "knn_score=evaluate(y_test,knn_pred)\n",
    "knn_score"
   ]
  },
  {
   "cell_type": "code",
   "execution_count": 27,
   "metadata": {},
   "outputs": [
    {
     "data": {
      "text/plain": [
       "70.19999999999999"
      ]
     },
     "execution_count": 27,
     "metadata": {},
     "output_type": "execute_result"
    }
   ],
   "source": [
    "score = round(knn.score(x_train, y_train), 3) *100\n",
    "score"
   ]
  },
  {
   "cell_type": "markdown",
   "metadata": {},
   "source": [
    "# Tuning for knn\n"
   ]
  },
  {
   "cell_type": "code",
   "execution_count": 28,
   "metadata": {},
   "outputs": [
    {
     "name": "stdout",
     "output_type": "stream",
     "text": [
      "Fitting 5 folds for each of 20 candidates, totalling 100 fits\n",
      "[CV] n_neighbors=45, weights=distance, algorithm=auto ................\n",
      "[CV] . n_neighbors=45, weights=distance, algorithm=auto, total=   0.0s\n",
      "[CV] n_neighbors=45, weights=distance, algorithm=auto ................\n",
      "[CV] . n_neighbors=45, weights=distance, algorithm=auto, total=   0.0s\n",
      "[CV] n_neighbors=45, weights=distance, algorithm=auto ................\n",
      "[CV] . n_neighbors=45, weights=distance, algorithm=auto, total=   0.0s\n",
      "[CV] n_neighbors=45, weights=distance, algorithm=auto ................\n",
      "[CV] . n_neighbors=45, weights=distance, algorithm=auto, total=   0.0s\n",
      "[CV] n_neighbors=45, weights=distance, algorithm=auto ................\n",
      "[CV] . n_neighbors=45, weights=distance, algorithm=auto, total=   0.0s\n",
      "[CV] n_neighbors=100, weights=uniform, algorithm=brute ...............\n",
      "[CV]  n_neighbors=100, weights=uniform, algorithm=brute, total=   0.0s\n",
      "[CV] n_neighbors=100, weights=uniform, algorithm=brute ...............\n",
      "[CV]  n_neighbors=100, weights=uniform, algorithm=brute, total=   0.0s\n",
      "[CV] n_neighbors=100, weights=uniform, algorithm=brute ...............\n",
      "[CV]  n_neighbors=100, weights=uniform, algorithm=brute, total=   0.0s\n",
      "[CV] n_neighbors=100, weights=uniform, algorithm=brute ...............\n",
      "[CV]  n_neighbors=100, weights=uniform, algorithm=brute, total=   0.0s\n",
      "[CV] n_neighbors=100, weights=uniform, algorithm=brute ...............\n",
      "[CV]  n_neighbors=100, weights=uniform, algorithm=brute, total=   0.0s\n",
      "[CV] n_neighbors=100, weights=uniform, algorithm=auto ................\n",
      "[CV] . n_neighbors=100, weights=uniform, algorithm=auto, total=   0.0s\n",
      "[CV] n_neighbors=100, weights=uniform, algorithm=auto ................\n",
      "[CV] . n_neighbors=100, weights=uniform, algorithm=auto, total=   0.0s\n",
      "[CV] n_neighbors=100, weights=uniform, algorithm=auto ................\n",
      "[CV] . n_neighbors=100, weights=uniform, algorithm=auto, total=   0.0s\n",
      "[CV] n_neighbors=100, weights=uniform, algorithm=auto ................\n",
      "[CV] . n_neighbors=100, weights=uniform, algorithm=auto, total=   0.0s\n",
      "[CV] n_neighbors=100, weights=uniform, algorithm=auto ................\n",
      "[CV] . n_neighbors=100, weights=uniform, algorithm=auto, total=   0.0s\n",
      "[CV] n_neighbors=100, weights=distance, algorithm=auto ...............\n"
     ]
    },
    {
     "name": "stderr",
     "output_type": "stream",
     "text": [
      "[Parallel(n_jobs=1)]: Using backend SequentialBackend with 1 concurrent workers.\n",
      "[Parallel(n_jobs=1)]: Done   1 out of   1 | elapsed:    0.0s remaining:    0.0s\n"
     ]
    },
    {
     "name": "stdout",
     "output_type": "stream",
     "text": [
      "[CV]  n_neighbors=100, weights=distance, algorithm=auto, total=   0.0s\n",
      "[CV] n_neighbors=100, weights=distance, algorithm=auto ...............\n",
      "[CV]  n_neighbors=100, weights=distance, algorithm=auto, total=   0.0s\n",
      "[CV] n_neighbors=100, weights=distance, algorithm=auto ...............\n",
      "[CV]  n_neighbors=100, weights=distance, algorithm=auto, total=   0.0s\n",
      "[CV] n_neighbors=100, weights=distance, algorithm=auto ...............\n",
      "[CV]  n_neighbors=100, weights=distance, algorithm=auto, total=   0.0s\n",
      "[CV] n_neighbors=100, weights=distance, algorithm=auto ...............\n",
      "[CV]  n_neighbors=100, weights=distance, algorithm=auto, total=   0.0s\n",
      "[CV] n_neighbors=100, weights=distance, algorithm=ball_tree ..........\n",
      "[CV]  n_neighbors=100, weights=distance, algorithm=ball_tree, total=   0.0s\n",
      "[CV] n_neighbors=100, weights=distance, algorithm=ball_tree ..........\n",
      "[CV]  n_neighbors=100, weights=distance, algorithm=ball_tree, total=   0.0s\n",
      "[CV] n_neighbors=100, weights=distance, algorithm=ball_tree ..........\n",
      "[CV]  n_neighbors=100, weights=distance, algorithm=ball_tree, total=   0.0s\n",
      "[CV] n_neighbors=100, weights=distance, algorithm=ball_tree ..........\n",
      "[CV]  n_neighbors=100, weights=distance, algorithm=ball_tree, total=   0.0s\n",
      "[CV] n_neighbors=100, weights=distance, algorithm=ball_tree ..........\n",
      "[CV]  n_neighbors=100, weights=distance, algorithm=ball_tree, total=   0.0s\n",
      "[CV] n_neighbors=45, weights=uniform, algorithm=ball_tree ............\n",
      "[CV]  n_neighbors=45, weights=uniform, algorithm=ball_tree, total=   0.0s\n",
      "[CV] n_neighbors=45, weights=uniform, algorithm=ball_tree ............\n",
      "[CV]  n_neighbors=45, weights=uniform, algorithm=ball_tree, total=   0.0s\n",
      "[CV] n_neighbors=45, weights=uniform, algorithm=ball_tree ............\n",
      "[CV]  n_neighbors=45, weights=uniform, algorithm=ball_tree, total=   0.0s\n",
      "[CV] n_neighbors=45, weights=uniform, algorithm=ball_tree ............\n",
      "[CV]  n_neighbors=45, weights=uniform, algorithm=ball_tree, total=   0.0s\n",
      "[CV] n_neighbors=45, weights=uniform, algorithm=ball_tree ............\n",
      "[CV]  n_neighbors=45, weights=uniform, algorithm=ball_tree, total=   0.0s\n",
      "[CV] n_neighbors=100, weights=distance, algorithm=kd_tree ............\n",
      "[CV]  n_neighbors=100, weights=distance, algorithm=kd_tree, total=   0.0s\n",
      "[CV] n_neighbors=100, weights=distance, algorithm=kd_tree ............\n",
      "[CV]  n_neighbors=100, weights=distance, algorithm=kd_tree, total=   0.0s\n",
      "[CV] n_neighbors=100, weights=distance, algorithm=kd_tree ............\n",
      "[CV]  n_neighbors=100, weights=distance, algorithm=kd_tree, total=   0.0s\n",
      "[CV] n_neighbors=100, weights=distance, algorithm=kd_tree ............\n",
      "[CV]  n_neighbors=100, weights=distance, algorithm=kd_tree, total=   0.0s\n",
      "[CV] n_neighbors=100, weights=distance, algorithm=kd_tree ............\n",
      "[CV]  n_neighbors=100, weights=distance, algorithm=kd_tree, total=   0.0s\n",
      "[CV] n_neighbors=23, weights=uniform, algorithm=kd_tree ..............\n",
      "[CV]  n_neighbors=23, weights=uniform, algorithm=kd_tree, total=   0.0s\n",
      "[CV] n_neighbors=23, weights=uniform, algorithm=kd_tree ..............\n",
      "[CV]  n_neighbors=23, weights=uniform, algorithm=kd_tree, total=   0.0s\n",
      "[CV] n_neighbors=23, weights=uniform, algorithm=kd_tree ..............\n",
      "[CV]  n_neighbors=23, weights=uniform, algorithm=kd_tree, total=   0.0s\n",
      "[CV] n_neighbors=23, weights=uniform, algorithm=kd_tree ..............\n",
      "[CV]  n_neighbors=23, weights=uniform, algorithm=kd_tree, total=   0.0s\n",
      "[CV] n_neighbors=23, weights=uniform, algorithm=kd_tree ..............\n",
      "[CV]  n_neighbors=23, weights=uniform, algorithm=kd_tree, total=   0.0s\n",
      "[CV] n_neighbors=100, weights=uniform, algorithm=brute ...............\n",
      "[CV]  n_neighbors=100, weights=uniform, algorithm=brute, total=   0.0s\n",
      "[CV] n_neighbors=100, weights=uniform, algorithm=brute ...............\n",
      "[CV]  n_neighbors=100, weights=uniform, algorithm=brute, total=   0.0s\n",
      "[CV] n_neighbors=100, weights=uniform, algorithm=brute ...............\n",
      "[CV]  n_neighbors=100, weights=uniform, algorithm=brute, total=   0.0s\n",
      "[CV] n_neighbors=100, weights=uniform, algorithm=brute ...............\n",
      "[CV]  n_neighbors=100, weights=uniform, algorithm=brute, total=   0.0s\n",
      "[CV] n_neighbors=100, weights=uniform, algorithm=brute ...............\n",
      "[CV]  n_neighbors=100, weights=uniform, algorithm=brute, total=   0.0s\n",
      "[CV] n_neighbors=5, weights=uniform, algorithm=ball_tree .............\n",
      "[CV]  n_neighbors=5, weights=uniform, algorithm=ball_tree, total=   0.0s\n",
      "[CV] n_neighbors=5, weights=uniform, algorithm=ball_tree .............\n",
      "[CV]  n_neighbors=5, weights=uniform, algorithm=ball_tree, total=   0.0s\n",
      "[CV] n_neighbors=5, weights=uniform, algorithm=ball_tree .............\n",
      "[CV]  n_neighbors=5, weights=uniform, algorithm=ball_tree, total=   0.0s\n",
      "[CV] n_neighbors=5, weights=uniform, algorithm=ball_tree .............\n",
      "[CV]  n_neighbors=5, weights=uniform, algorithm=ball_tree, total=   0.0s\n",
      "[CV] n_neighbors=5, weights=uniform, algorithm=ball_tree .............\n",
      "[CV]  n_neighbors=5, weights=uniform, algorithm=ball_tree, total=   0.0s\n",
      "[CV] n_neighbors=5, weights=distance, algorithm=auto .................\n",
      "[CV] .. n_neighbors=5, weights=distance, algorithm=auto, total=   0.0s\n",
      "[CV] n_neighbors=5, weights=distance, algorithm=auto .................\n",
      "[CV] .. n_neighbors=5, weights=distance, algorithm=auto, total=   0.0s\n",
      "[CV] n_neighbors=5, weights=distance, algorithm=auto .................\n",
      "[CV] .. n_neighbors=5, weights=distance, algorithm=auto, total=   0.0s\n",
      "[CV] n_neighbors=5, weights=distance, algorithm=auto .................\n",
      "[CV] .. n_neighbors=5, weights=distance, algorithm=auto, total=   0.0s\n",
      "[CV] n_neighbors=5, weights=distance, algorithm=auto .................\n",
      "[CV] .. n_neighbors=5, weights=distance, algorithm=auto, total=   0.0s\n",
      "[CV] n_neighbors=100, weights=uniform, algorithm=kd_tree .............\n",
      "[CV]  n_neighbors=100, weights=uniform, algorithm=kd_tree, total=   0.0s\n",
      "[CV] n_neighbors=100, weights=uniform, algorithm=kd_tree .............\n",
      "[CV]  n_neighbors=100, weights=uniform, algorithm=kd_tree, total=   0.0s\n",
      "[CV] n_neighbors=100, weights=uniform, algorithm=kd_tree .............\n",
      "[CV]  n_neighbors=100, weights=uniform, algorithm=kd_tree, total=   0.0s\n",
      "[CV] n_neighbors=100, weights=uniform, algorithm=kd_tree .............\n",
      "[CV]  n_neighbors=100, weights=uniform, algorithm=kd_tree, total=   0.0s\n",
      "[CV] n_neighbors=100, weights=uniform, algorithm=kd_tree .............\n",
      "[CV]  n_neighbors=100, weights=uniform, algorithm=kd_tree, total=   0.0s\n",
      "[CV] n_neighbors=100, weights=distance, algorithm=brute ..............\n",
      "[CV]  n_neighbors=100, weights=distance, algorithm=brute, total=   0.0s\n",
      "[CV] n_neighbors=100, weights=distance, algorithm=brute ..............\n",
      "[CV]  n_neighbors=100, weights=distance, algorithm=brute, total=   0.0s\n",
      "[CV] n_neighbors=100, weights=distance, algorithm=brute ..............\n",
      "[CV]  n_neighbors=100, weights=distance, algorithm=brute, total=   0.0s\n",
      "[CV] n_neighbors=100, weights=distance, algorithm=brute ..............\n",
      "[CV]  n_neighbors=100, weights=distance, algorithm=brute, total=   0.0s\n",
      "[CV] n_neighbors=100, weights=distance, algorithm=brute ..............\n",
      "[CV]  n_neighbors=100, weights=distance, algorithm=brute, total=   0.0s\n",
      "[CV] n_neighbors=23, weights=distance, algorithm=ball_tree ...........\n",
      "[CV]  n_neighbors=23, weights=distance, algorithm=ball_tree, total=   0.0s\n",
      "[CV] n_neighbors=23, weights=distance, algorithm=ball_tree ...........\n",
      "[CV]  n_neighbors=23, weights=distance, algorithm=ball_tree, total=   0.0s\n",
      "[CV] n_neighbors=23, weights=distance, algorithm=ball_tree ...........\n",
      "[CV]  n_neighbors=23, weights=distance, algorithm=ball_tree, total=   0.0s\n",
      "[CV] n_neighbors=23, weights=distance, algorithm=ball_tree ...........\n",
      "[CV]  n_neighbors=23, weights=distance, algorithm=ball_tree, total=   0.0s\n",
      "[CV] n_neighbors=23, weights=distance, algorithm=ball_tree ...........\n",
      "[CV]  n_neighbors=23, weights=distance, algorithm=ball_tree, total=   0.0s\n",
      "[CV] n_neighbors=100, weights=distance, algorithm=kd_tree ............\n",
      "[CV]  n_neighbors=100, weights=distance, algorithm=kd_tree, total=   0.0s\n",
      "[CV] n_neighbors=100, weights=distance, algorithm=kd_tree ............\n",
      "[CV]  n_neighbors=100, weights=distance, algorithm=kd_tree, total=   0.0s\n",
      "[CV] n_neighbors=100, weights=distance, algorithm=kd_tree ............\n",
      "[CV]  n_neighbors=100, weights=distance, algorithm=kd_tree, total=   0.0s\n",
      "[CV] n_neighbors=100, weights=distance, algorithm=kd_tree ............\n",
      "[CV]  n_neighbors=100, weights=distance, algorithm=kd_tree, total=   0.0s\n",
      "[CV] n_neighbors=100, weights=distance, algorithm=kd_tree ............\n",
      "[CV]  n_neighbors=100, weights=distance, algorithm=kd_tree, total=   0.0s\n",
      "[CV] n_neighbors=23, weights=uniform, algorithm=brute ................\n",
      "[CV] . n_neighbors=23, weights=uniform, algorithm=brute, total=   0.0s\n",
      "[CV] n_neighbors=23, weights=uniform, algorithm=brute ................\n",
      "[CV] . n_neighbors=23, weights=uniform, algorithm=brute, total=   0.0s\n",
      "[CV] n_neighbors=23, weights=uniform, algorithm=brute ................\n",
      "[CV] . n_neighbors=23, weights=uniform, algorithm=brute, total=   0.0s\n",
      "[CV] n_neighbors=23, weights=uniform, algorithm=brute ................\n"
     ]
    },
    {
     "name": "stdout",
     "output_type": "stream",
     "text": [
      "[CV] . n_neighbors=23, weights=uniform, algorithm=brute, total=   0.0s\n",
      "[CV] n_neighbors=23, weights=uniform, algorithm=brute ................\n",
      "[CV] . n_neighbors=23, weights=uniform, algorithm=brute, total=   0.0s\n",
      "[CV] n_neighbors=5, weights=distance, algorithm=brute ................\n",
      "[CV] . n_neighbors=5, weights=distance, algorithm=brute, total=   0.0s\n",
      "[CV] n_neighbors=5, weights=distance, algorithm=brute ................\n",
      "[CV] . n_neighbors=5, weights=distance, algorithm=brute, total=   0.0s\n",
      "[CV] n_neighbors=5, weights=distance, algorithm=brute ................\n",
      "[CV] . n_neighbors=5, weights=distance, algorithm=brute, total=   0.0s\n",
      "[CV] n_neighbors=5, weights=distance, algorithm=brute ................\n",
      "[CV] . n_neighbors=5, weights=distance, algorithm=brute, total=   0.0s\n",
      "[CV] n_neighbors=5, weights=distance, algorithm=brute ................\n",
      "[CV] . n_neighbors=5, weights=distance, algorithm=brute, total=   0.0s\n",
      "[CV] n_neighbors=100, weights=distance, algorithm=ball_tree ..........\n",
      "[CV]  n_neighbors=100, weights=distance, algorithm=ball_tree, total=   0.0s\n",
      "[CV] n_neighbors=100, weights=distance, algorithm=ball_tree ..........\n",
      "[CV]  n_neighbors=100, weights=distance, algorithm=ball_tree, total=   0.0s\n",
      "[CV] n_neighbors=100, weights=distance, algorithm=ball_tree ..........\n",
      "[CV]  n_neighbors=100, weights=distance, algorithm=ball_tree, total=   0.0s\n",
      "[CV] n_neighbors=100, weights=distance, algorithm=ball_tree ..........\n",
      "[CV]  n_neighbors=100, weights=distance, algorithm=ball_tree, total=   0.0s\n",
      "[CV] n_neighbors=100, weights=distance, algorithm=ball_tree ..........\n",
      "[CV]  n_neighbors=100, weights=distance, algorithm=ball_tree, total=   0.0s\n",
      "[CV] n_neighbors=100, weights=uniform, algorithm=kd_tree .............\n",
      "[CV]  n_neighbors=100, weights=uniform, algorithm=kd_tree, total=   0.0s\n",
      "[CV] n_neighbors=100, weights=uniform, algorithm=kd_tree .............\n",
      "[CV]  n_neighbors=100, weights=uniform, algorithm=kd_tree, total=   0.0s\n",
      "[CV] n_neighbors=100, weights=uniform, algorithm=kd_tree .............\n",
      "[CV]  n_neighbors=100, weights=uniform, algorithm=kd_tree, total=   0.0s\n",
      "[CV] n_neighbors=100, weights=uniform, algorithm=kd_tree .............\n",
      "[CV]  n_neighbors=100, weights=uniform, algorithm=kd_tree, total=   0.0s\n",
      "[CV] n_neighbors=100, weights=uniform, algorithm=kd_tree .............\n",
      "[CV]  n_neighbors=100, weights=uniform, algorithm=kd_tree, total=   0.0s\n",
      "[CV] n_neighbors=23, weights=distance, algorithm=kd_tree .............\n",
      "[CV]  n_neighbors=23, weights=distance, algorithm=kd_tree, total=   0.0s\n",
      "[CV] n_neighbors=23, weights=distance, algorithm=kd_tree .............\n",
      "[CV]  n_neighbors=23, weights=distance, algorithm=kd_tree, total=   0.0s\n",
      "[CV] n_neighbors=23, weights=distance, algorithm=kd_tree .............\n",
      "[CV]  n_neighbors=23, weights=distance, algorithm=kd_tree, total=   0.0s\n",
      "[CV] n_neighbors=23, weights=distance, algorithm=kd_tree .............\n",
      "[CV]  n_neighbors=23, weights=distance, algorithm=kd_tree, total=   0.0s\n",
      "[CV] n_neighbors=23, weights=distance, algorithm=kd_tree .............\n",
      "[CV]  n_neighbors=23, weights=distance, algorithm=kd_tree, total=   0.0s\n"
     ]
    },
    {
     "name": "stderr",
     "output_type": "stream",
     "text": [
      "[Parallel(n_jobs=1)]: Done 100 out of 100 | elapsed:    1.0s finished\n"
     ]
    },
    {
     "data": {
      "text/plain": [
       "RandomizedSearchCV(cv=5, error_score='raise-deprecating',\n",
       "          estimator=KNeighborsClassifier(algorithm='auto', leaf_size=30, metric='minkowski',\n",
       "           metric_params=None, n_jobs=None, n_neighbors=5, p=2,\n",
       "           weights='uniform'),\n",
       "          fit_params=None, iid='warn', n_iter=20, n_jobs=None,\n",
       "          param_distributions={'algorithm': ['auto', 'ball_tree', 'kd_tree', 'brute'], 'weights': ['uniform', 'distance'], 'n_neighbors': [5, 23, 100, 45, 100]},\n",
       "          pre_dispatch='2*n_jobs', random_state=None, refit=True,\n",
       "          return_train_score='warn', scoring=None, verbose=2)"
      ]
     },
     "execution_count": 28,
     "metadata": {},
     "output_type": "execute_result"
    }
   ],
   "source": [
    "prams={\"weights\":[\"uniform\", \"distance\"],\n",
    "       \"algorithm\":[\"auto\", \"ball_tree\", \"kd_tree\", \"brute\"],\n",
    "       \"n_neighbors\":[5,23,100,45,100]}\n",
    "rv=RandomizedSearchCV(KNeighborsClassifier(),prams,cv=5,n_iter=20,verbose=2)\n",
    "rv.fit(x_train,y_train)\n",
    "       "
   ]
  },
  {
   "cell_type": "code",
   "execution_count": 29,
   "metadata": {},
   "outputs": [
    {
     "data": {
      "text/plain": [
       "{'algorithm': 'kd_tree', 'n_neighbors': 23, 'weights': 'uniform'}"
      ]
     },
     "execution_count": 29,
     "metadata": {},
     "output_type": "execute_result"
    }
   ],
   "source": [
    "rv.best_params_"
   ]
  },
  {
   "cell_type": "markdown",
   "metadata": {},
   "source": [
    "# Logistic regression"
   ]
  },
  {
   "cell_type": "code",
   "execution_count": 30,
   "metadata": {},
   "outputs": [
    {
     "data": {
      "text/plain": [
       "LogisticRegression(C=206.913808111479, class_weight=None, dual=False,\n",
       "          fit_intercept=True, intercept_scaling=1, max_iter=100,\n",
       "          multi_class='warn', n_jobs=None, penalty='l2', random_state=None,\n",
       "          solver='liblinear', tol=0.0001, verbose=0, warm_start=False)"
      ]
     },
     "execution_count": 30,
     "metadata": {},
     "output_type": "execute_result"
    }
   ],
   "source": [
    "from sklearn.linear_model import LogisticRegression\n",
    "log=LogisticRegression(C= 206.913808111479, solver= 'liblinear')\n",
    "log.fit(x_train,y_train)"
   ]
  },
  {
   "cell_type": "code",
   "execution_count": 31,
   "metadata": {},
   "outputs": [
    {
     "data": {
      "text/plain": [
       "array([0, 1, 1, 0, 1, 1, 1, 0, 0, 0, 1, 0, 1, 0, 1, 1, 1, 0, 0, 0, 1, 0,\n",
       "       0, 1, 1, 1, 1, 1, 0, 1, 0, 0, 0, 0, 1, 0, 1, 1, 1, 1, 0, 1, 1, 1,\n",
       "       1, 0, 1, 1, 0, 0, 0, 0, 1, 1, 0, 0, 0, 1, 0, 0, 0], dtype=int64)"
      ]
     },
     "execution_count": 31,
     "metadata": {},
     "output_type": "execute_result"
    }
   ],
   "source": [
    "log_pred=log.predict(x_test)\n",
    "log_pred"
   ]
  },
  {
   "cell_type": "code",
   "execution_count": 32,
   "metadata": {},
   "outputs": [
    {
     "name": "stdout",
     "output_type": "stream",
     "text": [
      "accuracy is: 85.24590163934425 %\n",
      "recall_score is: 0.84375\n",
      "precision is: 0.8709677419354839\n",
      "f1_socre is: 0.8571428571428571\n"
     ]
    }
   ],
   "source": [
    "log_score=evaluate(y_test,log_pred)\n",
    "log_score"
   ]
  },
  {
   "cell_type": "markdown",
   "metadata": {},
   "source": [
    "# Tuning with logistic regression"
   ]
  },
  {
   "cell_type": "code",
   "execution_count": 33,
   "metadata": {},
   "outputs": [
    {
     "name": "stdout",
     "output_type": "stream",
     "text": [
      "Fitting 5 folds for each of 20 candidates, totalling 100 fits\n",
      "[CV] C=1.623776739188721, solver=lbfgs ...............................\n",
      "[CV] ................ C=1.623776739188721, solver=lbfgs, total=   0.0s\n",
      "[CV] C=1.623776739188721, solver=lbfgs ...............................\n",
      "[CV] ................ C=1.623776739188721, solver=lbfgs, total=   0.0s\n",
      "[CV] C=1.623776739188721, solver=lbfgs ...............................\n",
      "[CV] ................ C=1.623776739188721, solver=lbfgs, total=   0.0s\n",
      "[CV] C=1.623776739188721, solver=lbfgs ...............................\n",
      "[CV] ................ C=1.623776739188721, solver=lbfgs, total=   0.0s\n",
      "[CV] C=1.623776739188721, solver=lbfgs ...............................\n",
      "[CV] ................ C=1.623776739188721, solver=lbfgs, total=   0.0s\n",
      "[CV] C=0.0006951927961775605, solver=lbfgs ...........................\n"
     ]
    },
    {
     "name": "stderr",
     "output_type": "stream",
     "text": [
      "[Parallel(n_jobs=1)]: Using backend SequentialBackend with 1 concurrent workers.\n",
      "[Parallel(n_jobs=1)]: Done   1 out of   1 | elapsed:    0.0s remaining:    0.0s\n"
     ]
    },
    {
     "name": "stdout",
     "output_type": "stream",
     "text": [
      "[CV] ............ C=0.0006951927961775605, solver=lbfgs, total=   0.0s\n",
      "[CV] C=0.0006951927961775605, solver=lbfgs ...........................\n",
      "[CV] ............ C=0.0006951927961775605, solver=lbfgs, total=   0.0s\n",
      "[CV] C=0.0006951927961775605, solver=lbfgs ...........................\n",
      "[CV] ............ C=0.0006951927961775605, solver=lbfgs, total=   0.0s\n",
      "[CV] C=0.0006951927961775605, solver=lbfgs ...........................\n",
      "[CV] ............ C=0.0006951927961775605, solver=lbfgs, total=   0.0s\n",
      "[CV] C=0.0006951927961775605, solver=lbfgs ...........................\n",
      "[CV] ............ C=0.0006951927961775605, solver=lbfgs, total=   0.0s\n",
      "[CV] C=0.08858667904100823, solver=newton-cg .........................\n",
      "[CV] .......... C=0.08858667904100823, solver=newton-cg, total=   0.0s\n",
      "[CV] C=0.08858667904100823, solver=newton-cg .........................\n",
      "[CV] .......... C=0.08858667904100823, solver=newton-cg, total=   0.0s\n",
      "[CV] C=0.08858667904100823, solver=newton-cg .........................\n",
      "[CV] .......... C=0.08858667904100823, solver=newton-cg, total=   0.0s\n",
      "[CV] C=0.08858667904100823, solver=newton-cg .........................\n",
      "[CV] .......... C=0.08858667904100823, solver=newton-cg, total=   0.0s\n",
      "[CV] C=0.08858667904100823, solver=newton-cg .........................\n",
      "[CV] .......... C=0.08858667904100823, solver=newton-cg, total=   0.0s\n",
      "[CV] C=206.913808111479, solver=liblinear ............................\n",
      "[CV] ............. C=206.913808111479, solver=liblinear, total=   0.0s\n",
      "[CV] C=206.913808111479, solver=liblinear ............................\n",
      "[CV] ............. C=206.913808111479, solver=liblinear, total=   0.0s\n",
      "[CV] C=206.913808111479, solver=liblinear ............................\n",
      "[CV] ............. C=206.913808111479, solver=liblinear, total=   0.0s\n",
      "[CV] C=206.913808111479, solver=liblinear ............................\n",
      "[CV] ............. C=206.913808111479, solver=liblinear, total=   0.0s\n",
      "[CV] C=206.913808111479, solver=liblinear ............................\n",
      "[CV] ............. C=206.913808111479, solver=liblinear, total=   0.0s\n",
      "[CV] C=78.47599703514607, solver=lbfgs ...............................\n",
      "[CV] ................ C=78.47599703514607, solver=lbfgs, total=   0.0s\n",
      "[CV] C=78.47599703514607, solver=lbfgs ...............................\n",
      "[CV] ................ C=78.47599703514607, solver=lbfgs, total=   0.0s\n",
      "[CV] C=78.47599703514607, solver=lbfgs ...............................\n",
      "[CV] ................ C=78.47599703514607, solver=lbfgs, total=   0.0s\n",
      "[CV] C=78.47599703514607, solver=lbfgs ...............................\n",
      "[CV] ................ C=78.47599703514607, solver=lbfgs, total=   0.0s\n",
      "[CV] C=78.47599703514607, solver=lbfgs ...............................\n",
      "[CV] ................ C=78.47599703514607, solver=lbfgs, total=   0.0s\n",
      "[CV] C=29.763514416313132, solver=lbfgs ..............................\n",
      "[CV] ............... C=29.763514416313132, solver=lbfgs, total=   0.0s\n",
      "[CV] C=29.763514416313132, solver=lbfgs ..............................\n",
      "[CV] ............... C=29.763514416313132, solver=lbfgs, total=   0.0s\n",
      "[CV] C=29.763514416313132, solver=lbfgs ..............................\n",
      "[CV] ............... C=29.763514416313132, solver=lbfgs, total=   0.0s\n",
      "[CV] C=29.763514416313132, solver=lbfgs ..............................\n",
      "[CV] ............... C=29.763514416313132, solver=lbfgs, total=   0.0s\n",
      "[CV] C=29.763514416313132, solver=lbfgs ..............................\n",
      "[CV] ............... C=29.763514416313132, solver=lbfgs, total=   0.0s\n",
      "[CV] C=0.012742749857031334, solver=lbfgs ............................\n",
      "[CV] ............. C=0.012742749857031334, solver=lbfgs, total=   0.0s\n",
      "[CV] C=0.012742749857031334, solver=lbfgs ............................\n",
      "[CV] ............. C=0.012742749857031334, solver=lbfgs, total=   0.0s\n",
      "[CV] C=0.012742749857031334, solver=lbfgs ............................\n",
      "[CV] ............. C=0.012742749857031334, solver=lbfgs, total=   0.0s\n",
      "[CV] C=0.012742749857031334, solver=lbfgs ............................\n",
      "[CV] ............. C=0.012742749857031334, solver=lbfgs, total=   0.0s\n",
      "[CV] C=0.012742749857031334, solver=lbfgs ............................\n",
      "[CV] ............. C=0.012742749857031334, solver=lbfgs, total=   0.0s\n",
      "[CV] C=1.623776739188721, solver=saga ................................\n",
      "[CV] ................. C=1.623776739188721, solver=saga, total=   0.0s\n",
      "[CV] C=1.623776739188721, solver=saga ................................\n",
      "[CV] ................. C=1.623776739188721, solver=saga, total=   0.0s\n",
      "[CV] C=1.623776739188721, solver=saga ................................\n",
      "[CV] ................. C=1.623776739188721, solver=saga, total=   0.0s\n",
      "[CV] C=1.623776739188721, solver=saga ................................\n",
      "[CV] ................. C=1.623776739188721, solver=saga, total=   0.0s\n",
      "[CV] C=1.623776739188721, solver=saga ................................\n",
      "[CV] ................. C=1.623776739188721, solver=saga, total=   0.0s\n",
      "[CV] C=0.004832930238571752, solver=sag ..............................\n",
      "[CV] ............... C=0.004832930238571752, solver=sag, total=   0.0s\n",
      "[CV] C=0.004832930238571752, solver=sag ..............................\n",
      "[CV] ............... C=0.004832930238571752, solver=sag, total=   0.0s\n",
      "[CV] C=0.004832930238571752, solver=sag ..............................\n",
      "[CV] ............... C=0.004832930238571752, solver=sag, total=   0.0s\n",
      "[CV] C=0.004832930238571752, solver=sag ..............................\n",
      "[CV] ............... C=0.004832930238571752, solver=sag, total=   0.0s\n",
      "[CV] C=0.004832930238571752, solver=sag ..............................\n",
      "[CV] ............... C=0.004832930238571752, solver=sag, total=   0.0s\n",
      "[CV] C=4.281332398719396, solver=lbfgs ...............................\n",
      "[CV] ................ C=4.281332398719396, solver=lbfgs, total=   0.0s\n",
      "[CV] C=4.281332398719396, solver=lbfgs ...............................\n",
      "[CV] ................ C=4.281332398719396, solver=lbfgs, total=   0.0s\n",
      "[CV] C=4.281332398719396, solver=lbfgs ...............................\n",
      "[CV] ................ C=4.281332398719396, solver=lbfgs, total=   0.0s\n",
      "[CV] C=4.281332398719396, solver=lbfgs ...............................\n",
      "[CV] ................ C=4.281332398719396, solver=lbfgs, total=   0.0s\n",
      "[CV] C=4.281332398719396, solver=lbfgs ...............................\n",
      "[CV] ................ C=4.281332398719396, solver=lbfgs, total=   0.0s\n",
      "[CV] C=0.08858667904100823, solver=liblinear .........................\n",
      "[CV] .......... C=0.08858667904100823, solver=liblinear, total=   0.0s\n",
      "[CV] C=0.08858667904100823, solver=liblinear .........................\n",
      "[CV] .......... C=0.08858667904100823, solver=liblinear, total=   0.0s\n",
      "[CV] C=0.08858667904100823, solver=liblinear .........................\n",
      "[CV] .......... C=0.08858667904100823, solver=liblinear, total=   0.0s\n",
      "[CV] C=0.08858667904100823, solver=liblinear .........................\n",
      "[CV] .......... C=0.08858667904100823, solver=liblinear, total=   0.0s\n",
      "[CV] C=0.08858667904100823, solver=liblinear .........................\n",
      "[CV] .......... C=0.08858667904100823, solver=liblinear, total=   0.0s\n",
      "[CV] C=0.0001, solver=newton-cg ......................................\n",
      "[CV] ....................... C=0.0001, solver=newton-cg, total=   0.0s\n",
      "[CV] C=0.0001, solver=newton-cg ......................................\n",
      "[CV] ....................... C=0.0001, solver=newton-cg, total=   0.0s\n",
      "[CV] C=0.0001, solver=newton-cg ......................................\n",
      "[CV] ....................... C=0.0001, solver=newton-cg, total=   0.0s\n",
      "[CV] C=0.0001, solver=newton-cg ......................................\n",
      "[CV] ....................... C=0.0001, solver=newton-cg, total=   0.0s\n",
      "[CV] C=0.0001, solver=newton-cg ......................................\n",
      "[CV] ....................... C=0.0001, solver=newton-cg, total=   0.0s\n",
      "[CV] C=1438.44988828766, solver=lbfgs ................................\n",
      "[CV] ................. C=1438.44988828766, solver=lbfgs, total=   0.0s\n",
      "[CV] C=1438.44988828766, solver=lbfgs ................................\n",
      "[CV] ................. C=1438.44988828766, solver=lbfgs, total=   0.0s\n",
      "[CV] C=1438.44988828766, solver=lbfgs ................................\n",
      "[CV] ................. C=1438.44988828766, solver=lbfgs, total=   0.0s\n",
      "[CV] C=1438.44988828766, solver=lbfgs ................................\n",
      "[CV] ................. C=1438.44988828766, solver=lbfgs, total=   0.0s\n",
      "[CV] C=1438.44988828766, solver=lbfgs ................................\n",
      "[CV] ................. C=1438.44988828766, solver=lbfgs, total=   0.0s\n",
      "[CV] C=0.0006951927961775605, solver=saga ............................\n",
      "[CV] ............. C=0.0006951927961775605, solver=saga, total=   0.0s\n",
      "[CV] C=0.0006951927961775605, solver=saga ............................\n",
      "[CV] ............. C=0.0006951927961775605, solver=saga, total=   0.0s\n",
      "[CV] C=0.0006951927961775605, solver=saga ............................\n",
      "[CV] ............. C=0.0006951927961775605, solver=saga, total=   0.0s\n",
      "[CV] C=0.0006951927961775605, solver=saga ............................\n",
      "[CV] ............. C=0.0006951927961775605, solver=saga, total=   0.0s\n",
      "[CV] C=0.0006951927961775605, solver=saga ............................\n",
      "[CV] ............. C=0.0006951927961775605, solver=saga, total=   0.0s\n",
      "[CV] C=545.5594781168514, solver=lbfgs ...............................\n"
     ]
    },
    {
     "name": "stdout",
     "output_type": "stream",
     "text": [
      "[CV] ................ C=545.5594781168514, solver=lbfgs, total=   0.0s\n",
      "[CV] C=545.5594781168514, solver=lbfgs ...............................\n",
      "[CV] ................ C=545.5594781168514, solver=lbfgs, total=   0.0s\n",
      "[CV] C=545.5594781168514, solver=lbfgs ...............................\n",
      "[CV] ................ C=545.5594781168514, solver=lbfgs, total=   0.0s\n",
      "[CV] C=545.5594781168514, solver=lbfgs ...............................\n",
      "[CV] ................ C=545.5594781168514, solver=lbfgs, total=   0.0s\n",
      "[CV] C=545.5594781168514, solver=lbfgs ...............................\n",
      "[CV] ................ C=545.5594781168514, solver=lbfgs, total=   0.0s\n",
      "[CV] C=3792.690190732246, solver=newton-cg ...........................\n",
      "[CV] ............ C=3792.690190732246, solver=newton-cg, total=   0.0s\n",
      "[CV] C=3792.690190732246, solver=newton-cg ...........................\n",
      "[CV] ............ C=3792.690190732246, solver=newton-cg, total=   0.0s\n",
      "[CV] C=3792.690190732246, solver=newton-cg ...........................\n",
      "[CV] ............ C=3792.690190732246, solver=newton-cg, total=   0.0s\n",
      "[CV] C=3792.690190732246, solver=newton-cg ...........................\n",
      "[CV] ............ C=3792.690190732246, solver=newton-cg, total=   0.0s\n",
      "[CV] C=3792.690190732246, solver=newton-cg ...........................\n",
      "[CV] ............ C=3792.690190732246, solver=newton-cg, total=   0.0s\n",
      "[CV] C=1438.44988828766, solver=saga .................................\n",
      "[CV] .................. C=1438.44988828766, solver=saga, total=   0.0s\n",
      "[CV] C=1438.44988828766, solver=saga .................................\n",
      "[CV] .................. C=1438.44988828766, solver=saga, total=   0.0s\n",
      "[CV] C=1438.44988828766, solver=saga .................................\n",
      "[CV] .................. C=1438.44988828766, solver=saga, total=   0.0s\n",
      "[CV] C=1438.44988828766, solver=saga .................................\n",
      "[CV] .................. C=1438.44988828766, solver=saga, total=   0.0s\n",
      "[CV] C=1438.44988828766, solver=saga .................................\n",
      "[CV] .................. C=1438.44988828766, solver=saga, total=   0.0s\n",
      "[CV] C=4.281332398719396, solver=newton-cg ...........................\n",
      "[CV] ............ C=4.281332398719396, solver=newton-cg, total=   0.0s\n",
      "[CV] C=4.281332398719396, solver=newton-cg ...........................\n",
      "[CV] ............ C=4.281332398719396, solver=newton-cg, total=   0.0s\n",
      "[CV] C=4.281332398719396, solver=newton-cg ...........................\n",
      "[CV] ............ C=4.281332398719396, solver=newton-cg, total=   0.0s\n",
      "[CV] C=4.281332398719396, solver=newton-cg ...........................\n",
      "[CV] ............ C=4.281332398719396, solver=newton-cg, total=   0.0s\n",
      "[CV] C=4.281332398719396, solver=newton-cg ...........................\n",
      "[CV] ............ C=4.281332398719396, solver=newton-cg, total=   0.0s\n",
      "[CV] C=29.763514416313132, solver=newton-cg ..........................\n",
      "[CV] ........... C=29.763514416313132, solver=newton-cg, total=   0.0s\n",
      "[CV] C=29.763514416313132, solver=newton-cg ..........................\n",
      "[CV] ........... C=29.763514416313132, solver=newton-cg, total=   0.0s\n",
      "[CV] C=29.763514416313132, solver=newton-cg ..........................\n",
      "[CV] ........... C=29.763514416313132, solver=newton-cg, total=   0.0s\n",
      "[CV] C=29.763514416313132, solver=newton-cg ..........................\n",
      "[CV] ........... C=29.763514416313132, solver=newton-cg, total=   0.0s\n",
      "[CV] C=29.763514416313132, solver=newton-cg ..........................\n",
      "[CV] ........... C=29.763514416313132, solver=newton-cg, total=   0.0s\n",
      "[CV] C=0.0018329807108324356, solver=newton-cg .......................\n",
      "[CV] ........ C=0.0018329807108324356, solver=newton-cg, total=   0.0s\n",
      "[CV] C=0.0018329807108324356, solver=newton-cg .......................\n",
      "[CV] ........ C=0.0018329807108324356, solver=newton-cg, total=   0.0s\n",
      "[CV] C=0.0018329807108324356, solver=newton-cg .......................\n",
      "[CV] ........ C=0.0018329807108324356, solver=newton-cg, total=   0.0s\n",
      "[CV] C=0.0018329807108324356, solver=newton-cg .......................\n",
      "[CV] ........ C=0.0018329807108324356, solver=newton-cg, total=   0.0s\n",
      "[CV] C=0.0018329807108324356, solver=newton-cg .......................\n",
      "[CV] ........ C=0.0018329807108324356, solver=newton-cg, total=   0.0s\n"
     ]
    },
    {
     "name": "stderr",
     "output_type": "stream",
     "text": [
      "[Parallel(n_jobs=1)]: Done 100 out of 100 | elapsed:    2.7s finished\n"
     ]
    },
    {
     "data": {
      "text/plain": [
       "RandomizedSearchCV(cv=5, error_score='raise-deprecating',\n",
       "          estimator=LogisticRegression(C=1.0, class_weight=None, dual=False, fit_intercept=True,\n",
       "          intercept_scaling=1, max_iter=100, multi_class='warn',\n",
       "          n_jobs=None, penalty='l2', random_state=None, solver='warn',\n",
       "          tol=0.0001, verbose=0, warm_start=False),\n",
       "          fit_params=None, iid='warn', n_iter=20, n_jobs=None,\n",
       "          param_distributions={'solver': ['newton-cg', 'lbfgs', 'liblinear', 'sag', 'saga'], 'C': array([1.00000e-04, 2.63665e-04, 6.95193e-04, 1.83298e-03, 4.83293e-03,\n",
       "       1.27427e-02, 3.35982e-02, 8.85867e-02, 2.33572e-01, 6.15848e-01,\n",
       "       1.62378e+00, 4.28133e+00, 1.12884e+01, 2.97635e+01, 7.84760e+01,\n",
       "       2.06914e+02, 5.45559e+02, 1.43845e+03, 3.79269e+03, 1.00000e+04])},\n",
       "          pre_dispatch='2*n_jobs', random_state=None, refit=True,\n",
       "          return_train_score='warn', scoring=None, verbose=2)"
      ]
     },
     "execution_count": 33,
     "metadata": {},
     "output_type": "execute_result"
    }
   ],
   "source": [
    "p={\"C\": np.logspace(-4, 4, 20),\n",
    "  \"solver\":[\"newton-cg\", \"lbfgs\", \"liblinear\", \"sag\", \"saga\"]\n",
    "  }\n",
    "rv2=RandomizedSearchCV(LogisticRegression(),p,n_iter=20,cv=5,verbose=2)\n",
    "rv2.fit(x_train,y_train)"
   ]
  },
  {
   "cell_type": "code",
   "execution_count": 34,
   "metadata": {},
   "outputs": [
    {
     "data": {
      "text/plain": [
       "{'C': 206.913808111479, 'solver': 'liblinear'}"
      ]
     },
     "execution_count": 34,
     "metadata": {},
     "output_type": "execute_result"
    }
   ],
   "source": [
    "rv2.best_params_"
   ]
  },
  {
   "cell_type": "markdown",
   "metadata": {},
   "source": [
    "# Model Comparison"
   ]
  },
  {
   "cell_type": "code",
   "execution_count": 35,
   "metadata": {},
   "outputs": [
    {
     "data": {
      "text/plain": [
       "{'knn': 0.7213114754098361,\n",
       " 'logistic_regression': 0.8524590163934426,\n",
       " 'randomforest': 0.8852459016393442}"
      ]
     },
     "execution_count": 35,
     "metadata": {},
     "output_type": "execute_result"
    }
   ],
   "source": [
    "model_scores={\"randomforest\":accuracy_score(y_test,ran_pred),\n",
    "             \"knn\":accuracy_score(y_test,knn_pred),\n",
    "             \"logistic_regression\":accuracy_score(y_test,log_pred)}\n",
    "model_scores"
   ]
  },
  {
   "cell_type": "code",
   "execution_count": 36,
   "metadata": {},
   "outputs": [
    {
     "data": {
      "text/plain": [
       "<matplotlib.axes._subplots.AxesSubplot at 0x1b86915fa20>"
      ]
     },
     "execution_count": 36,
     "metadata": {},
     "output_type": "execute_result"
    },
    {
     "data": {
      "image/png": "[encoded data removed]",
      "text/plain": [
       "<Figure size 432x288 with 1 Axes>"
      ]
     },
     "metadata": {
      "needs_background": "light"
     },
     "output_type": "display_data"
    }
   ],
   "source": [
    "model_compare=pd.DataFrame(model_scores,index=[\"accuracy\"])\n",
    "model_compare.T.plot.bar(color=\"pink\")\n"
   ]
  },
  {
   "cell_type": "markdown",
   "metadata": {},
   "source": [
    "# Evaluation"
   ]
  },
  {
   "cell_type": "code",
   "execution_count": 37,
   "metadata": {},
   "outputs": [
    {
     "data": {
      "text/html": [
       "<div>\n",
       "<style scoped>\n",
       "    .dataframe tbody tr th:only-of-type {\n",
       "        vertical-align: middle;\n",
       "    }\n",
       "\n",
       "    .dataframe tbody tr th {\n",
       "        vertical-align: top;\n",
       "    }\n",
       "\n",
       "    .dataframe thead th {\n",
       "        text-align: right;\n",
       "    }\n",
       "</style>\n",
       "<table border=\"1\" class=\"dataframe\">\n",
       "  <thead>\n",
       "    <tr style=\"text-align: right;\">\n",
       "      <th>predicted</th>\n",
       "      <th>0</th>\n",
       "      <th>1</th>\n",
       "    </tr>\n",
       "    <tr>\n",
       "      <th>actual_labels</th>\n",
       "      <th></th>\n",
       "      <th></th>\n",
       "    </tr>\n",
       "  </thead>\n",
       "  <tbody>\n",
       "    <tr>\n",
       "      <th>0</th>\n",
       "      <td>24</td>\n",
       "      <td>5</td>\n",
       "    </tr>\n",
       "    <tr>\n",
       "      <th>1</th>\n",
       "      <td>2</td>\n",
       "      <td>30</td>\n",
       "    </tr>\n",
       "  </tbody>\n",
       "</table>\n",
       "</div>"
      ],
      "text/plain": [
       "predicted       0   1\n",
       "actual_labels        \n",
       "0              24   5\n",
       "1               2  30"
      ]
     },
     "execution_count": 37,
     "metadata": {},
     "output_type": "execute_result"
    }
   ],
   "source": [
    "pd.crosstab(y_test,\n",
    "           ran_pred,\n",
    "           rownames=[\"actual_labels\"],\n",
    "           colnames=[\"predicted\"])"
   ]
  },
  {
   "cell_type": "code",
   "execution_count": 38,
   "metadata": {},
   "outputs": [
    {
     "data": {
      "image/png": "[encoded data removed]",
      "text/plain": [
       "<Figure size 432x432 with 1 Axes>"
      ]
     },
     "metadata": {
      "needs_background": "light"
     },
     "output_type": "display_data"
    }
   ],
   "source": [
    "con=confusion_matrix(y_test,ran_pred)\n",
    "def conf(con):\n",
    "    fig,ax=plt.subplots(figsize=(6,6))\n",
    "    ax=sns.heatmap(con,\n",
    "                  annot=True,\n",
    "                  cbar=False)\n",
    "    plt.xlabel(\"True\")\n",
    "    plt.ylabel(\"Predicted\")\n",
    "conf(con)    \n",
    "    "
   ]
  },
  {
   "cell_type": "code",
   "execution_count": 39,
   "metadata": {},
   "outputs": [
    {
     "name": "stdout",
     "output_type": "stream",
     "text": [
      "              precision    recall  f1-score   support\n",
      "\n",
      "           0       0.92      0.83      0.87        29\n",
      "           1       0.86      0.94      0.90        32\n",
      "\n",
      "   micro avg       0.89      0.89      0.89        61\n",
      "   macro avg       0.89      0.88      0.88        61\n",
      "weighted avg       0.89      0.89      0.88        61\n",
      "\n"
     ]
    }
   ],
   "source": [
    "report=classification_report(y_test,ran_pred)\n",
    "print(report)"
   ]
  },
  {
   "cell_type": "code",
   "execution_count": 40,
   "metadata": {},
   "outputs": [
    {
     "name": "stdout",
     "output_type": "stream",
     "text": [
      "accuracy is: 88.52459016393442 %\n",
      "recall_score is: 0.9375\n",
      "precision is: 0.8571428571428571\n",
      "f1_socre is: 0.8955223880597014\n"
     ]
    }
   ],
   "source": [
    "evaluate(y_test,ran_pred)"
   ]
  },
  {
   "cell_type": "code",
   "execution_count": 41,
   "metadata": {},
   "outputs": [
    {
     "data": {
      "text/plain": [
       "(61, 13)"
      ]
     },
     "execution_count": 41,
     "metadata": {},
     "output_type": "execute_result"
    }
   ],
   "source": [
    "x_test.shape"
   ]
  },
  {
   "cell_type": "markdown",
   "metadata": {},
   "source": [
    "# Creating Frontend GUI"
   ]
  },
  {
   "cell_type": "code",
   "execution_count": 44,
   "metadata": {},
   "outputs": [],
   "source": [
    "root=Tk()\n",
    "\n",
    "root.minsize(600,600)\n",
    "bg = PhotoImage(file = r\"C:\\Users\\hp\\OneDrive\\Desktop\\heart2.png\")\n",
    "bg_label=Label(root,image=bg).place(x=0,y=0,relwidth=1,relheight=1)\n",
    "Label(root,text=\"Heart Diesease Predcition\",bg=\"skyblue\").grid(row=0,column=3)\n",
    "\n",
    "def get_val():\n",
    "    input_val=np.array([age_e.get(),sex_e.get(),cp_e.get(),trestbps_e.get(),chol_e.get(),fbs_e.get(),restecg_e.get(),thalach_e.get(),exang_e.get(),oldpeak_e.get(),slope_e.get(),ca_e.get(),\n",
    "    thal_e.get()])\n",
    "    b=input_val.reshape(1,-1)\n",
    "    pred=random.predict([input_val])\n",
    "    print(input_val)\n",
    "    print(\"result:\",pred)\n",
    "    if pred==1:\n",
    "        label1=tk.Label(text=\"Heart disease detected !!!\",bg=\"red\").grid(row=18,column=3)\n",
    "        label2=tk.Label(text=\"-PLEASE VISIT NEAREST CARDIOLOGIST AT THE EARLIEST-\").grid(row=20,column=3)\n",
    "        print(\"Heart disease detected !!!\")\n",
    "    else:\n",
    "        label3=tk.Label(text=\"No Heart disease\").grid(row=18,column=3)\n",
    "        label4=tk.Label(text=\"Do not forget to exercise daily.\").grid(row=19,column=3)\n",
    "        print(\"No Heart disease\")\n",
    "    result.configure(text=\"Result=%d\"%pred)\n",
    "    #tkinter.messagebox.showinfo('result:',pred)\n",
    "\n"
   ]
  },
  {
   "cell_type": "code",
   "execution_count": 45,
   "metadata": {},
   "outputs": [
    {
     "name": "stdout",
     "output_type": "stream",
     "text": [
      "['63' '1' '3' '145' '233' '1' '0' '150' '0' '2.3' '0' '0' '1']\n",
      "result: [1]\n",
      "Heart disease detected !!!\n"
     ]
    }
   ],
   "source": [
    "age=tk.Label(root,text=\"Age:\").grid(row=1,column=0)\n",
    "sex=tk.Label(root,text=\"Sex:\").grid(row=2,column=0)\n",
    "cp=tk.Label(root,text=\"CP:\").grid(row=3,column=0)\n",
    "trestbps=tk.Label(root,text=\"Trestbps:\").grid(row=4,column=0)\n",
    "chol=tk.Label(root,text=\"Chol:\").grid(row=5,column=0)\n",
    "fbs=tk.Label(root,text=\"Fbs:\").grid(row=6,column=0)\n",
    "restecg=tk.Label(root,text=\"Restecg:\").grid(row=7,column=0)\n",
    "thalach=tk.Label(root,text=\"Thalach:\").grid(row=8,column=0)\n",
    "exang=tk.Label(root,text=\"Exang:\").grid(row=9,column=0)\n",
    "oldpeak=tk.Label(root,text=\"Oldpeak:\").grid(row=10,column=0)\n",
    "slope=tk.Label(root,text=\"Slope:\").grid(row=11,column=0)\n",
    "ca=tk.Label(root,text=\"CA:\").grid(row=12,column=0)\n",
    "thal=tk.Label(root,text=\"Thal:\").grid(row=13,column=0)\n",
    "result=tk.Label(root)\n",
    "result.grid(row=16, column=3) \n",
    "\n",
    "\n",
    "age_val=tk.IntVar() \n",
    "sex_val=tk.IntVar()\n",
    "cp_val=tk.IntVar()\n",
    "trestbps_val=tk.IntVar()\n",
    "chol_val=tk.IntVar()\n",
    "fbs_val=tk.IntVar()\n",
    "restecg_val=tk.IntVar()\n",
    "thalach_val=tk.IntVar()\n",
    "exang_val=tk.IntVar()\n",
    "oldpeak_val=tk.IntVar()\n",
    "slope_val=tk.IntVar()\n",
    "ca_val=tk.IntVar()\n",
    "thal_val=tk.IntVar()\n",
    "\n",
    "\n",
    "\n",
    "\n",
    "age_e=tk.Entry(root,textvariable=age_val)\n",
    "age_e.grid(row=1,column=2)\n",
    "sex_e=tk.Entry(root,textvariable=sex_val)\n",
    "sex_e.grid(row=2,column=2)\n",
    "cp_e=tk.Entry(root,textvariable=cp_val)\n",
    "cp_e.grid(row=3,column=2)\n",
    "trestbps_e=tk.Entry(root,textvariable=trestbps_val)\n",
    "trestbps_e.grid(row=4,column=2)\n",
    "chol_e=tk.Entry(root,textvariable=chol_val)\n",
    "chol_e.grid(row=5,column=2)\n",
    "fbs_e=tk.Entry(root,textvariable=fbs_val)\n",
    "fbs_e.grid(row=6,column=2)\n",
    "restecg_e=tk.Entry(root,textvariable=restecg_val)\n",
    "restecg_e.grid(row=7,column=2)\n",
    "thalach_e=tk.Entry(root,textvariable=thalach_val)\n",
    "thalach_e.grid(row=8,column=2)\n",
    "exang_e=tk.Entry(root,textvariable=exang_val)\n",
    "exang_e.grid(row=9,column=2)\n",
    "oldpeak_e=tk.Entry(root,textvariable=oldpeak_val)\n",
    "oldpeak_e.grid(row=10,column=2)\n",
    "slope_e=tk.Entry(root,textvariable=slope_val)\n",
    "slope_e.grid(row=11,column=2)\n",
    "ca_e=tk.Entry(root,textvariable=ca_val)\n",
    "ca_e.grid(row=12,column=2)\n",
    "thal_e=tk.Entry(root,textvariable=thal_val)\n",
    "thal_e.grid(row=13,column=2)\n",
    "\n",
    "             \n",
    "Button(root,text=\"submit\",command=get_val,bg=\"skyblue\").grid(row=14,column=3)\n",
    "\n",
    "root.mainloop()\n",
    "\n",
    "                                           \n",
    "                                           \n",
    "                                           \n",
    "\n",
    "\n"
   ]
  },
  {
   "cell_type": "raw",
   "metadata": {},
   "source": []
  },
  {
   "cell_type": "code",
   "execution_count": null,
   "metadata": {},
   "outputs": [],
   "source": []
  }
 ],
 "metadata": {
  "kernelspec": {
   "display_name": "Python 3",
   "language": "python",
   "name": "python3"
  },
  "language_info": {
   "codemirror_mode": {
    "name": "ipython",
    "version": 3
   },
   "file_extension": ".py",
   "mimetype": "text/x-python",
   "name": "python",
   "nbconvert_exporter": "python",
   "pygments_lexer": "ipython3",
   "version": "3.5.6"
  }
 },
 "nbformat": 4,
 "nbformat_minor": 4
}
